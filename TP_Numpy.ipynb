{
 "cells": [
  {
   "cell_type": "markdown",
   "metadata": {
    "papermill": {
     "duration": 0.026919,
     "end_time": "2020-09-06T17:12:40.261897",
     "exception": false,
     "start_time": "2020-09-06T17:12:40.234978",
     "status": "completed"
    },
    "tags": []
   },
   "source": [
    "# TP- NumPy - Solution"
   ]
  },
  {
   "cell_type": "markdown",
   "metadata": {
    "papermill": {
     "duration": 0.022985,
     "end_time": "2020-09-06T17:12:40.635421",
     "exception": false,
     "start_time": "2020-09-06T17:12:40.612436",
     "status": "completed"
    },
    "tags": []
   },
   "source": [
    "\n",
    "### Import numpy as np and see the version\n"
   ]
  },
  {
   "cell_type": "code",
   "execution_count": 2,
   "metadata": {
    "_cell_guid": "79c7e3d0-c299-4dcb-8224-4455121ee9b0",
    "_uuid": "d629ff2d2480ee46fbb7e2d37f6b5fab8052498a",
    "execution": {
     "iopub.execute_input": "2020-09-06T17:12:40.688089Z",
     "iopub.status.busy": "2020-09-06T17:12:40.687337Z",
     "iopub.status.idle": "2020-09-06T17:12:40.691368Z",
     "shell.execute_reply": "2020-09-06T17:12:40.691961Z"
    },
    "papermill": {
     "duration": 0.033336,
     "end_time": "2020-09-06T17:12:40.692121",
     "exception": false,
     "start_time": "2020-09-06T17:12:40.658785",
     "status": "completed"
    },
    "tags": []
   },
   "outputs": [
    {
     "name": "stdout",
     "output_type": "stream",
     "text": [
      "1.21.5\n"
     ]
    }
   ],
   "source": [
    "import numpy as np"
   ]
  },
  {
   "cell_type": "markdown",
   "metadata": {
    "papermill": {
     "duration": 0.023217,
     "end_time": "2020-09-06T17:12:40.740072",
     "exception": false,
     "start_time": "2020-09-06T17:12:40.716855",
     "status": "completed"
    },
    "tags": []
   },
   "source": [
    "### Create a 1D array (X) of numbers from 0 to 9\n"
   ]
  },
  {
   "cell_type": "code",
   "execution_count": 4,
   "metadata": {
    "execution": {
     "iopub.execute_input": "2020-09-06T17:12:40.797248Z",
     "iopub.status.busy": "2020-09-06T17:12:40.796310Z",
     "iopub.status.idle": "2020-09-06T17:12:40.800742Z",
     "shell.execute_reply": "2020-09-06T17:12:40.801349Z"
    },
    "papermill": {
     "duration": 0.037894,
     "end_time": "2020-09-06T17:12:40.801507",
     "exception": false,
     "start_time": "2020-09-06T17:12:40.763613",
     "status": "completed"
    },
    "tags": []
   },
   "outputs": [
    {
     "data": {
      "text/plain": [
       "array([0, 1, 2, 3, 4, 5, 6, 7, 8, 9])"
      ]
     },
     "execution_count": 4,
     "metadata": {},
     "output_type": "execute_result"
    }
   ],
   "source": []
  },
  {
   "cell_type": "markdown",
   "metadata": {
    "papermill": {
     "duration": 0.02352,
     "end_time": "2020-09-06T17:12:40.849037",
     "exception": false,
     "start_time": "2020-09-06T17:12:40.825517",
     "status": "completed"
    },
    "tags": []
   },
   "source": [
    "### Create a 3×3 numpy array of all True’s"
   ]
  },
  {
   "cell_type": "code",
   "execution_count": 5,
   "metadata": {
    "execution": {
     "iopub.execute_input": "2020-09-06T17:12:40.906065Z",
     "iopub.status.busy": "2020-09-06T17:12:40.905253Z",
     "iopub.status.idle": "2020-09-06T17:12:40.917600Z",
     "shell.execute_reply": "2020-09-06T17:12:40.918161Z"
    },
    "papermill": {
     "duration": 0.045602,
     "end_time": "2020-09-06T17:12:40.918390",
     "exception": false,
     "start_time": "2020-09-06T17:12:40.872788",
     "status": "completed"
    },
    "tags": []
   },
   "outputs": [
    {
     "data": {
      "text/plain": [
       "array([[ True,  True,  True],\n",
       "       [ True,  True,  True],\n",
       "       [ True,  True,  True]])"
      ]
     },
     "execution_count": 5,
     "metadata": {},
     "output_type": "execute_result"
    }
   ],
   "source": []
  },
  {
   "cell_type": "markdown",
   "metadata": {
    "papermill": {
     "duration": 0.023817,
     "end_time": "2020-09-06T17:12:40.966365",
     "exception": false,
     "start_time": "2020-09-06T17:12:40.942548",
     "status": "completed"
    },
    "tags": []
   },
   "source": [
    "### Extract all odd numbers from array X"
   ]
  },
  {
   "cell_type": "code",
   "execution_count": 6,
   "metadata": {
    "execution": {
     "iopub.execute_input": "2020-09-06T17:12:41.022525Z",
     "iopub.status.busy": "2020-09-06T17:12:41.021570Z",
     "iopub.status.idle": "2020-09-06T17:12:41.026062Z",
     "shell.execute_reply": "2020-09-06T17:12:41.025252Z"
    },
    "papermill": {
     "duration": 0.035606,
     "end_time": "2020-09-06T17:12:41.026208",
     "exception": false,
     "start_time": "2020-09-06T17:12:40.990602",
     "status": "completed"
    },
    "tags": []
   },
   "outputs": [
    {
     "data": {
      "text/plain": [
       "array([1, 3, 5, 7, 9])"
      ]
     },
     "execution_count": 6,
     "metadata": {},
     "output_type": "execute_result"
    }
   ],
   "source": []
  },
  {
   "cell_type": "markdown",
   "metadata": {
    "papermill": {
     "duration": 0.024524,
     "end_time": "2020-09-06T17:12:41.075878",
     "exception": false,
     "start_time": "2020-09-06T17:12:41.051354",
     "status": "completed"
    },
    "tags": []
   },
   "source": [
    "### Replace all odd numbers in X with -1  without changing X"
   ]
  },
  {
   "cell_type": "code",
   "execution_count": 13,
   "metadata": {
    "execution": {
     "iopub.execute_input": "2020-09-06T17:12:41.275921Z",
     "iopub.status.busy": "2020-09-06T17:12:41.275030Z",
     "iopub.status.idle": "2020-09-06T17:12:41.285479Z",
     "shell.execute_reply": "2020-09-06T17:12:41.288338Z"
    },
    "papermill": {
     "duration": 0.056423,
     "end_time": "2020-09-06T17:12:41.288564",
     "exception": false,
     "start_time": "2020-09-06T17:12:41.232141",
     "status": "completed"
    },
    "tags": []
   },
   "outputs": [
    {
     "name": "stdout",
     "output_type": "stream",
     "text": [
      "Modified Array\n",
      "[ 0 -1  2 -1  4 -1  6 -1  8 -1]\n",
      "\n",
      "Original Array\n",
      "[0 1 2 3 4 5 6 7 8 9]\n"
     ]
    }
   ],
   "source": []
  },
  {
   "cell_type": "markdown",
   "metadata": {
    "papermill": {
     "duration": 0.025133,
     "end_time": "2020-09-06T17:12:41.341587",
     "exception": false,
     "start_time": "2020-09-06T17:12:41.316454",
     "status": "completed"
    },
    "tags": []
   },
   "source": [
    "### Convert X to a 2D array with 2 rows"
   ]
  },
  {
   "cell_type": "code",
   "execution_count": 14,
   "metadata": {
    "execution": {
     "iopub.execute_input": "2020-09-06T17:12:41.399908Z",
     "iopub.status.busy": "2020-09-06T17:12:41.399070Z",
     "iopub.status.idle": "2020-09-06T17:12:41.406971Z",
     "shell.execute_reply": "2020-09-06T17:12:41.406176Z"
    },
    "papermill": {
     "duration": 0.040323,
     "end_time": "2020-09-06T17:12:41.407110",
     "exception": false,
     "start_time": "2020-09-06T17:12:41.366787",
     "status": "completed"
    },
    "tags": []
   },
   "outputs": [
    {
     "data": {
      "text/plain": [
       "array([[0, 1, 2, 3, 4],\n",
       "       [5, 6, 7, 8, 9]])"
      ]
     },
     "execution_count": 14,
     "metadata": {},
     "output_type": "execute_result"
    }
   ],
   "source": []
  },
  {
   "cell_type": "markdown",
   "metadata": {},
   "source": [
    "### Generate the following arrays automatically: \n",
    "a = array([[0, 1, 2, 3, 4],\n",
    "     [5, 6, 7, 8, 9]]\n",
    "     \n",
    "b= array[[1, 1, 1, 1, 1],\n",
    "    [1, 1, 1, 1, 1]])"
   ]
  },
  {
   "cell_type": "code",
   "execution_count": 16,
   "metadata": {},
   "outputs": [
    {
     "name": "stdout",
     "output_type": "stream",
     "text": [
      "[[0 1 2 3 4]\n",
      " [5 6 7 8 9]]\n",
      "[[1 1 1 1 1]\n",
      " [1 1 1 1 1]]\n"
     ]
    }
   ],
   "source": []
  },
  {
   "cell_type": "markdown",
   "metadata": {
    "papermill": {
     "duration": 0.025478,
     "end_time": "2020-09-06T17:12:41.457954",
     "exception": false,
     "start_time": "2020-09-06T17:12:41.432476",
     "status": "completed"
    },
    "tags": []
   },
   "source": [
    "### Stack arrays a and b vertically"
   ]
  },
  {
   "cell_type": "code",
   "execution_count": 17,
   "metadata": {
    "execution": {
     "iopub.execute_input": "2020-09-06T17:12:41.517686Z",
     "iopub.status.busy": "2020-09-06T17:12:41.516664Z",
     "iopub.status.idle": "2020-09-06T17:12:41.521642Z",
     "shell.execute_reply": "2020-09-06T17:12:41.520926Z"
    },
    "papermill": {
     "duration": 0.038342,
     "end_time": "2020-09-06T17:12:41.521766",
     "exception": false,
     "start_time": "2020-09-06T17:12:41.483424",
     "status": "completed"
    },
    "tags": []
   },
   "outputs": [
    {
     "data": {
      "text/plain": [
       "array([[0, 1, 2, 3, 4],\n",
       "       [5, 6, 7, 8, 9],\n",
       "       [1, 1, 1, 1, 1],\n",
       "       [1, 1, 1, 1, 1]])"
      ]
     },
     "execution_count": 17,
     "metadata": {},
     "output_type": "execute_result"
    }
   ],
   "source": []
  },
  {
   "cell_type": "markdown",
   "metadata": {
    "papermill": {
     "duration": 0.025035,
     "end_time": "2020-09-06T17:12:41.572498",
     "exception": false,
     "start_time": "2020-09-06T17:12:41.547463",
     "status": "completed"
    },
    "tags": []
   },
   "source": [
    "### Stack arrays a and b horizontally"
   ]
  },
  {
   "cell_type": "code",
   "execution_count": 18,
   "metadata": {
    "execution": {
     "iopub.execute_input": "2020-09-06T17:12:41.637649Z",
     "iopub.status.busy": "2020-09-06T17:12:41.636615Z",
     "iopub.status.idle": "2020-09-06T17:12:41.641282Z",
     "shell.execute_reply": "2020-09-06T17:12:41.640664Z"
    },
    "papermill": {
     "duration": 0.038746,
     "end_time": "2020-09-06T17:12:41.641430",
     "exception": false,
     "start_time": "2020-09-06T17:12:41.602684",
     "status": "completed"
    },
    "tags": []
   },
   "outputs": [
    {
     "data": {
      "text/plain": [
       "array([[0, 1, 2, 3, 4, 1, 1, 1, 1, 1],\n",
       "       [5, 6, 7, 8, 9, 1, 1, 1, 1, 1]])"
      ]
     },
     "execution_count": 18,
     "metadata": {},
     "output_type": "execute_result"
    }
   ],
   "source": []
  },
  {
   "cell_type": "markdown",
   "metadata": {
    "papermill": {
     "duration": 0.025547,
     "end_time": "2020-09-06T17:12:42.044041",
     "exception": false,
     "start_time": "2020-09-06T17:12:42.018494",
     "status": "completed"
    },
    "tags": []
   },
   "source": [
    "### Get the positions where elements of a and b match"
   ]
  },
  {
   "cell_type": "code",
   "execution_count": 21,
   "metadata": {
    "execution": {
     "iopub.execute_input": "2020-09-06T17:12:42.106342Z",
     "iopub.status.busy": "2020-09-06T17:12:42.105119Z",
     "iopub.status.idle": "2020-09-06T17:12:42.110226Z",
     "shell.execute_reply": "2020-09-06T17:12:42.109581Z"
    },
    "papermill": {
     "duration": 0.039847,
     "end_time": "2020-09-06T17:12:42.110372",
     "exception": false,
     "start_time": "2020-09-06T17:12:42.070525",
     "status": "completed"
    },
    "tags": []
   },
   "outputs": [
    {
     "data": {
      "text/plain": [
       "(array([0], dtype=int64), array([1], dtype=int64))"
      ]
     },
     "execution_count": 21,
     "metadata": {},
     "output_type": "execute_result"
    }
   ],
   "source": []
  },
  {
   "cell_type": "markdown",
   "metadata": {
    "papermill": {
     "duration": 0.076634,
     "end_time": "2020-09-06T17:12:42.213556",
     "exception": false,
     "start_time": "2020-09-06T17:12:42.136922",
     "status": "completed"
    },
    "tags": []
   },
   "source": [
    "### Get all items between 5 and 10 from array a"
   ]
  },
  {
   "cell_type": "code",
   "execution_count": 26,
   "metadata": {
    "execution": {
     "iopub.execute_input": "2020-09-06T17:12:42.275713Z",
     "iopub.status.busy": "2020-09-06T17:12:42.274594Z",
     "iopub.status.idle": "2020-09-06T17:12:42.278591Z",
     "shell.execute_reply": "2020-09-06T17:12:42.279181Z"
    },
    "papermill": {
     "duration": 0.038949,
     "end_time": "2020-09-06T17:12:42.279369",
     "exception": false,
     "start_time": "2020-09-06T17:12:42.240420",
     "status": "completed"
    },
    "tags": []
   },
   "outputs": [
    {
     "data": {
      "text/plain": [
       "array([5, 6, 7, 8, 9])"
      ]
     },
     "execution_count": 26,
     "metadata": {},
     "output_type": "execute_result"
    }
   ],
   "source": []
  },
  {
   "cell_type": "markdown",
   "metadata": {
    "papermill": {
     "duration": 0.028758,
     "end_time": "2020-09-06T17:12:42.966944",
     "exception": false,
     "start_time": "2020-09-06T17:12:42.938186",
     "status": "completed"
    },
    "tags": []
   },
   "source": [
    "### Create a 2D array of shape 5x3 to contain random decimal numbers between 1 and 30."
   ]
  },
  {
   "cell_type": "code",
   "execution_count": 103,
   "metadata": {
    "execution": {
     "iopub.execute_input": "2020-09-06T17:12:43.034217Z",
     "iopub.status.busy": "2020-09-06T17:12:43.033217Z",
     "iopub.status.idle": "2020-09-06T17:12:43.038208Z",
     "shell.execute_reply": "2020-09-06T17:12:43.037602Z"
    },
    "papermill": {
     "duration": 0.042496,
     "end_time": "2020-09-06T17:12:43.038382",
     "exception": false,
     "start_time": "2020-09-06T17:12:42.995886",
     "status": "completed"
    },
    "tags": []
   },
   "outputs": [
    {
     "data": {
      "text/plain": [
       "array([[17.73014348, 22.53191098, 19.27533416],\n",
       "       [17.87342358,  1.59273483,  7.09077075],\n",
       "       [16.79586147, 23.30433996,  8.27016165],\n",
       "       [ 9.29097502, 25.71945755, 29.27518831],\n",
       "       [26.66074551, 11.42572747, 18.36690943]])"
      ]
     },
     "execution_count": 103,
     "metadata": {},
     "output_type": "execute_result"
    }
   ],
   "source": []
  },
  {
   "cell_type": "markdown",
   "metadata": {},
   "source": [
    "### Replace all values greater than 20 to 20 and less than 5 to 5."
   ]
  },
  {
   "cell_type": "code",
   "execution_count": 102,
   "metadata": {},
   "outputs": [
    {
     "data": {
      "text/plain": [
       "array([[10.        , 11.81212934, 10.        ],\n",
       "       [10.        , 24.07421275, 10.        ],\n",
       "       [18.36645793, 18.51033163, 10.        ],\n",
       "       [12.0763599 , 10.        , 26.82193534],\n",
       "       [29.44670485, 10.        , 26.8258324 ]])"
      ]
     },
     "execution_count": 102,
     "metadata": {},
     "output_type": "execute_result"
    }
   ],
   "source": []
  },
  {
   "cell_type": "markdown",
   "metadata": {
    "papermill": {
     "duration": 0.029994,
     "end_time": "2020-09-06T17:12:43.767436",
     "exception": false,
     "start_time": "2020-09-06T17:12:43.737442",
     "status": "completed"
    },
    "tags": []
   },
   "source": [
    "### Read the wind speed column from the \"wind_dataset.csv\" file as a numpy array\n"
   ]
  },
  {
   "cell_type": "code",
   "execution_count": 113,
   "metadata": {
    "execution": {
     "iopub.execute_input": "2020-09-06T17:12:43.834450Z",
     "iopub.status.busy": "2020-09-06T17:12:43.833575Z",
     "iopub.status.idle": "2020-09-06T17:12:43.841860Z",
     "shell.execute_reply": "2020-09-06T17:12:43.841164Z"
    },
    "papermill": {
     "duration": 0.044382,
     "end_time": "2020-09-06T17:12:43.842001",
     "exception": false,
     "start_time": "2020-09-06T17:12:43.797619",
     "status": "completed"
    },
    "tags": []
   },
   "outputs": [
    {
     "data": {
      "text/plain": [
       "array([13.67, 11.5 , 11.25, ...,  6.  ,  6.25,  2.67])"
      ]
     },
     "execution_count": 113,
     "metadata": {},
     "output_type": "execute_result"
    }
   ],
   "source": []
  },
  {
   "cell_type": "markdown",
   "metadata": {
    "papermill": {
     "duration": 0.030427,
     "end_time": "2020-09-06T17:12:44.039097",
     "exception": false,
     "start_time": "2020-09-06T17:12:44.008670",
     "status": "completed"
    },
    "tags": []
   },
   "source": [
    "### Find the mean, median, standard deviation of windspeed"
   ]
  },
  {
   "cell_type": "code",
   "execution_count": 114,
   "metadata": {
    "execution": {
     "iopub.execute_input": "2020-09-06T17:12:44.108501Z",
     "iopub.status.busy": "2020-09-06T17:12:44.107617Z",
     "iopub.status.idle": "2020-09-06T17:12:44.117050Z",
     "shell.execute_reply": "2020-09-06T17:12:44.116248Z"
    },
    "papermill": {
     "duration": 0.047153,
     "end_time": "2020-09-06T17:12:44.117195",
     "exception": false,
     "start_time": "2020-09-06T17:12:44.070042",
     "status": "completed"
    },
    "tags": []
   },
   "outputs": [
    {
     "name": "stdout",
     "output_type": "stream",
     "text": [
      "Mean 9.98\n",
      "Median 10.07\n",
      "Standard Deviation 4.55\n"
     ]
    }
   ],
   "source": []
  },
  {
   "cell_type": "markdown",
   "metadata": {
    "papermill": {
     "duration": 0.030275,
     "end_time": "2020-09-06T17:12:44.178099",
     "exception": false,
     "start_time": "2020-09-06T17:12:44.147824",
     "status": "completed"
    },
    "tags": []
   },
   "source": [
    "### Create a normalized form of wind's speed whose values range exactly between 0 and 1 so that the minimum has value 0 and maximum has value 1."
   ]
  },
  {
   "cell_type": "code",
   "execution_count": 115,
   "metadata": {
    "execution": {
     "iopub.execute_input": "2020-09-06T17:12:44.247711Z",
     "iopub.status.busy": "2020-09-06T17:12:44.246749Z",
     "iopub.status.idle": "2020-09-06T17:12:44.257261Z",
     "shell.execute_reply": "2020-09-06T17:12:44.256327Z"
    },
    "papermill": {
     "duration": 0.048897,
     "end_time": "2020-09-06T17:12:44.257442",
     "exception": false,
     "start_time": "2020-09-06T17:12:44.208545",
     "status": "completed"
    },
    "tags": []
   },
   "outputs": [
    {
     "data": {
      "text/plain": [
       "array([[ 0.58945293, -0.0744209 ],\n",
       "       [ 0.4825037 ,  0.16707738],\n",
       "       [ 0.47018236, -0.06456382],\n",
       "       ...,\n",
       "       [ 0.2114342 , -0.08427797],\n",
       "       [ 0.22375554, -0.08427797],\n",
       "       [ 0.04731395, -0.08427797]])"
      ]
     },
     "execution_count": 115,
     "metadata": {},
     "output_type": "execute_result"
    }
   ],
   "source": []
  },
  {
   "cell_type": "markdown",
   "metadata": {
    "papermill": {
     "duration": 0.030387,
     "end_time": "2020-09-06T17:12:44.319013",
     "exception": false,
     "start_time": "2020-09-06T17:12:44.288626",
     "status": "completed"
    },
    "tags": []
   },
   "source": [
    "### Compute the softmax score of the windspeed\n",
    "hint:\n",
    "\n",
    "$softmax (x) =\\exp (x)/\\sum\\exp(x)$"
   ]
  },
  {
   "cell_type": "code",
   "execution_count": 116,
   "metadata": {
    "execution": {
     "iopub.execute_input": "2020-09-06T17:12:44.388057Z",
     "iopub.status.busy": "2020-09-06T17:12:44.387260Z",
     "iopub.status.idle": "2020-09-06T17:12:44.402206Z",
     "shell.execute_reply": "2020-09-06T17:12:44.401540Z"
    },
    "papermill": {
     "duration": 0.052877,
     "end_time": "2020-09-06T17:12:44.402348",
     "exception": false,
     "start_time": "2020-09-06T17:12:44.349471",
     "status": "completed"
    },
    "tags": []
   },
   "outputs": [
    {
     "data": {
      "text/plain": [
       "array([1.37050734e-04, 1.56481262e-05, 1.21867729e-05, ...,\n",
       "       6.39503152e-08, 8.21138302e-08, 2.28898035e-09])"
      ]
     },
     "execution_count": 116,
     "metadata": {},
     "output_type": "execute_result"
    }
   ],
   "source": []
  },
  {
   "cell_type": "markdown",
   "metadata": {},
   "source": [
    "### Verify the sum of the softmax output  (it must sum 1)"
   ]
  },
  {
   "cell_type": "code",
   "execution_count": 117,
   "metadata": {},
   "outputs": [
    {
     "data": {
      "text/plain": [
       "0.9999999999999998"
      ]
     },
     "execution_count": 117,
     "metadata": {},
     "output_type": "execute_result"
    }
   ],
   "source": []
  },
  {
   "cell_type": "markdown",
   "metadata": {},
   "source": [
    "### Find the min and max of wind speed"
   ]
  },
  {
   "cell_type": "code",
   "execution_count": 120,
   "metadata": {},
   "outputs": [
    {
     "name": "stdout",
     "output_type": "stream",
     "text": [
      "min 1.71\n"
     ]
    }
   ],
   "source": []
  },
  {
   "cell_type": "code",
   "execution_count": 121,
   "metadata": {},
   "outputs": [
    {
     "name": "stdout",
     "output_type": "stream",
     "text": [
      "min =  22.0\n"
     ]
    }
   ],
   "source": []
  },
  {
   "cell_type": "markdown",
   "metadata": {},
   "source": [
    "### Find the most frequent wind speed"
   ]
  },
  {
   "cell_type": "code",
   "execution_count": 223,
   "metadata": {},
   "outputs": [
    {
     "data": {
      "text/plain": [
       "10.88"
      ]
     },
     "execution_count": 223,
     "metadata": {},
     "output_type": "execute_result"
    }
   ],
   "source": []
  },
  {
   "cell_type": "markdown",
   "metadata": {},
   "source": [
    "### Sort the windspeed in an descending order and print the largest 10 speeds"
   ]
  },
  {
   "cell_type": "code",
   "execution_count": 209,
   "metadata": {},
   "outputs": [
    {
     "data": {
      "text/plain": [
       "array([22.  , 21.17, 20.38, 19.17, 17.83, 17.5 , 17.12, 16.79, 16.62,\n",
       "       16.5 ])"
      ]
     },
     "execution_count": 209,
     "metadata": {},
     "output_type": "execute_result"
    }
   ],
   "source": []
  },
  {
   "cell_type": "markdown",
   "metadata": {},
   "source": [
    "### Select 4 random windspeed values"
   ]
  },
  {
   "cell_type": "code",
   "execution_count": null,
   "metadata": {},
   "outputs": [],
   "source": []
  },
  {
   "cell_type": "markdown",
   "metadata": {
    "papermill": {
     "duration": 0.031705,
     "end_time": "2020-09-06T17:12:44.902653",
     "exception": false,
     "start_time": "2020-09-06T17:12:44.870948",
     "status": "completed"
    },
    "tags": []
   },
   "source": [
    "### Filter the wind dataset  that has wind speed > 13"
   ]
  },
  {
   "cell_type": "code",
   "execution_count": null,
   "metadata": {
    "execution": {
     "iopub.execute_input": "2020-09-06T17:12:44.975767Z",
     "iopub.status.busy": "2020-09-06T17:12:44.974944Z",
     "iopub.status.idle": "2020-09-06T17:12:44.983994Z",
     "shell.execute_reply": "2020-09-06T17:12:44.983159Z"
    },
    "papermill": {
     "duration": 0.049114,
     "end_time": "2020-09-06T17:12:44.984136",
     "exception": false,
     "start_time": "2020-09-06T17:12:44.935022",
     "status": "completed"
    },
    "tags": []
   },
   "outputs": [],
   "source": []
  },
  {
   "cell_type": "markdown",
   "metadata": {},
   "source": [
    "### Save the array in a npz file"
   ]
  },
  {
   "cell_type": "code",
   "execution_count": null,
   "metadata": {},
   "outputs": [],
   "source": []
  },
  {
   "cell_type": "markdown",
   "metadata": {},
   "source": [
    "### Load data from npz file"
   ]
  },
  {
   "cell_type": "code",
   "execution_count": null,
   "metadata": {},
   "outputs": [],
   "source": []
  },
  {
   "cell_type": "code",
   "execution_count": null,
   "metadata": {},
   "outputs": [],
   "source": []
  }
 ],
 "metadata": {
  "kernelspec": {
   "display_name": "Python 3 (ipykernel)",
   "language": "python",
   "name": "python3"
  },
  "language_info": {
   "codemirror_mode": {
    "name": "ipython",
    "version": 3
   },
   "file_extension": ".py",
   "mimetype": "text/x-python",
   "name": "python",
   "nbconvert_exporter": "python",
   "pygments_lexer": "ipython3",
   "version": "3.7.1"
  },
  "papermill": {
   "duration": 14.061704,
   "end_time": "2020-09-06T17:12:48.120409",
   "environment_variables": {},
   "exception": null,
   "input_path": "__notebook__.ipynb",
   "output_path": "__notebook__.ipynb",
   "parameters": {},
   "start_time": "2020-09-06T17:12:34.058705",
   "version": "2.1.0"
  }
 },
 "nbformat": 4,
 "nbformat_minor": 4
}
