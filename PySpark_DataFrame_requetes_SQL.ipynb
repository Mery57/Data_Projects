{
  "nbformat": 4,
  "nbformat_minor": 0,
  "metadata": {
    "colab": {
      "provenance": [],
      "include_colab_link": true
    },
    "kernelspec": {
      "name": "python3",
      "display_name": "Python 3"
    },
    "language_info": {
      "name": "python"
    }
  },
  "cells": [
    {
      "cell_type": "markdown",
      "metadata": {
        "id": "view-in-github",
        "colab_type": "text"
      },
      "source": [
        "<a href=\"https://colab.research.google.com/github/Mery57/Data_Projects/blob/main/PySpark_DataFrame_requetes_SQL.ipynb\" target=\"_parent\"><img src=\"https://colab.research.google.com/assets/colab-badge.svg\" alt=\"Open In Colab\"/></a>"
      ]
    },
    {
      "cell_type": "code",
      "execution_count": null,
      "metadata": {
        "id": "azKiol7Ts2C4"
      },
      "outputs": [],
      "source": [
        "!pip install pyspark"
      ]
    },
    {
      "cell_type": "code",
      "source": [
        "from __future__ import print_function\n",
        "import sys\n",
        "from pyspark.sql import SparkSession\n",
        "#-----------------------------------------------------\n",
        "# Apply a describe() action to a DataFrame\n",
        "# Input: NONE\n",
        "#------------------------------------------------------\n",
        "# Input Parameters:\n",
        "#    NONE\n",
        "#-------------------------------------------------------\n",
        "\n",
        "#-------------------------------------------------------\n",
        "\n",
        "#=========================================\n",
        "def main():\n",
        "\n",
        "    # create an instance of SparkSession\n",
        "    spark = SparkSession.builder.getOrCreate()\n",
        "\n",
        "    #========================================\n",
        "    # SparkSession.sql(sqlQuery)\n",
        "    # sql(sqlQuery)\n",
        "    #\n",
        "    # Description:\n",
        "    # Returns a DataFrame representing the result of the given query.\n",
        "    #========================================\n",
        "\n",
        "    triplets = [(\"alex\",\"Ames\", 20),\\\n",
        "                (\"alex\", \"Sunnyvale\",30),\\\n",
        "                (\"alex\", \"Cupertino\", 40),\\\n",
        "                (\"mary\", \"Ames\", 35),\\\n",
        "                (\"mary\", \"Stanford\", 45),\\\n",
        "                (\"mary\", \"Campbell\", 55),\\\n",
        "                (\"jeff\", \"Ames\", 60),\\\n",
        "                (\"jeff\", \"Sunnyvale\", 70),\\\n",
        "                (\"jane\", \"Austin\", 80)]\n",
        "\n",
        "    #\n",
        "    print(\"triplets = \", triplets)\n",
        "    df = spark.createDataFrame(triplets, [\"name\", \"city\", \"age\"])\n",
        "    print(\"df.count(): \", df.count())\n",
        "    print(\"df.collect(): \", df.collect())\n",
        "    df.show()\n",
        "    df.printSchema()\n",
        "\n",
        "    #-----------------------------------------\n",
        "    # Register a DataFrame as a Table\n",
        "    #-----------------------------------------\n",
        "    df.createOrReplaceTempView(\"people\")\n",
        "\n",
        "    #-----------------------------------------\n",
        "    # Query: SELECT * FROM people\n",
        "    #-----------------------------------------\n",
        "    df2 = spark.sql(\"SELECT name, city, age FROM people\")\n",
        "    df2.show()\n",
        "\n",
        "    #-----------------------------------------\n",
        "    # Query: SELECT * FROM people where age > 62\n",
        "    #-----------------------------------------\n",
        "    df3 = spark.sql(\"SELECT name, city, age FROM people WHERE age > 62 \")\n",
        "    df3.show()\n",
        "\n",
        "    #-----------------------------------------\n",
        "    # Query: SELECT name, count(*) FROM people GROUP BY \"name\"\n",
        "    #-----------------------------------------\n",
        "    df4 = df.groupBy(['name']).count()\n",
        "    df4.show()\n",
        "\n",
        "    #-----------------------------------------\n",
        "    # Query: SELECT name, count(*) FROM people GROUP BY \"name\"\n",
        "    #-----------------------------------------\n",
        "    df5 = spark.sql(\"SELECT name, count(*) as namecount FROM people GROUP BY name\")\n",
        "    df5.show()\n",
        "\n",
        "    # done!\n",
        "    spark.stop()\n",
        "#end-def\n",
        "#==========================================\n",
        "\n",
        "if __name__ == '__main__':\n",
        "    main()"
      ],
      "metadata": {
        "id": "ObF8aAsOs2mG"
      },
      "execution_count": null,
      "outputs": []
    }
  ]
}