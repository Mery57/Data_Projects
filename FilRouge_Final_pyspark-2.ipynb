{
  "nbformat": 4,
  "nbformat_minor": 0,
  "metadata": {
    "colab": {
      "provenance": []
    },
    "kernelspec": {
      "name": "python3",
      "display_name": "Python 3"
    },
    "language_info": {
      "name": "python"
    }
  },
  "cells": [
    {
      "cell_type": "code",
      "execution_count": 26,
      "metadata": {
        "colab": {
          "base_uri": "https://localhost:8080/"
        },
        "id": "YSm6oNQsDJly",
        "outputId": "7e13c3a6-e24e-4c3d-96d4-fba118cd2da4"
      },
      "outputs": [
        {
          "output_type": "stream",
          "name": "stdout",
          "text": [
            "Requirement already satisfied: pyspark in /usr/local/lib/python3.10/dist-packages (3.5.1)\n",
            "Requirement already satisfied: py4j==0.10.9.7 in /usr/local/lib/python3.10/dist-packages (from pyspark) (0.10.9.7)\n"
          ]
        }
      ],
      "source": [
        "!pip install pyspark"
      ]
    },
    {
      "cell_type": "code",
      "source": [
        "import pandas as pd\n",
        "import numpy as np\n",
        "import matplotlib.pyplot as plt"
      ],
      "metadata": {
        "id": "5qM58Qo3FZ1r"
      },
      "execution_count": 27,
      "outputs": []
    },
    {
      "cell_type": "code",
      "source": [
        "from pyspark.context import SparkContext\n",
        "from pyspark.sql import SparkSession"
      ],
      "metadata": {
        "id": "pKjOMgcNHlRE"
      },
      "execution_count": 28,
      "outputs": []
    },
    {
      "cell_type": "markdown",
      "source": [
        "But de cette session:\n",
        "1. Explorer la donnée\n",
        "2. Préparer la donnée\n",
        "3. Entrainer un ou deux modèles de ML (prévision du prix)\n",
        "4. Etendre au 2è jeu de données"
      ],
      "metadata": {
        "id": "wroE-JWWH8IO"
      }
    },
    {
      "cell_type": "code",
      "source": [
        "#l_listings = pd.read_csv(\"listings_lyon.csv\")\n",
        "l_listings = pd.read_csv(\"listings.csv\")"
      ],
      "metadata": {
        "id": "uMFIHAxXGdjN"
      },
      "execution_count": 29,
      "outputs": []
    },
    {
      "cell_type": "markdown",
      "source": [
        "Recherche de l'assymétrie de la distribution des prix\n",
        "Si elle est positive, les points aberrants sont plutôt les locations chères"
      ],
      "metadata": {
        "id": "cRZhD7xeMlYM"
      }
    },
    {
      "cell_type": "code",
      "source": [
        "l_listings['price'].skew()"
      ],
      "metadata": {
        "colab": {
          "base_uri": "https://localhost:8080/"
        },
        "id": "3StQuBAmKbS5",
        "outputId": "3dae775c-85e3-4502-bc71-a9d50921d1e4"
      },
      "execution_count": 30,
      "outputs": [
        {
          "output_type": "execute_result",
          "data": {
            "text/plain": [
              "38.913407111565995"
            ]
          },
          "metadata": {},
          "execution_count": 30
        }
      ]
    },
    {
      "cell_type": "code",
      "source": [
        "p_listings = pd.read_csv(\"listings_paris.csv\")\n",
        "p_listings['price'].skew()"
      ],
      "metadata": {
        "colab": {
          "base_uri": "https://localhost:8080/"
        },
        "id": "54ULoHHRLh8X",
        "outputId": "c998f359-782f-4844-f56d-a15645b5f783"
      },
      "execution_count": 31,
      "outputs": [
        {
          "output_type": "execute_result",
          "data": {
            "text/plain": [
              "31.237462467794693"
            ]
          },
          "metadata": {},
          "execution_count": 31
        }
      ]
    },
    {
      "cell_type": "code",
      "source": [
        "l_listings.describe(include='all')"
      ],
      "metadata": {
        "colab": {
          "base_uri": "https://localhost:8080/",
          "height": 512
        },
        "id": "FaeNxPTKN2yh",
        "outputId": "96248073-51bf-4884-88c8-0d256b3b244c"
      },
      "execution_count": 32,
      "outputs": [
        {
          "output_type": "execute_result",
          "data": {
            "text/plain": [
              "                  id              name       host_id host_name  \\\n",
              "count   1.011300e+04             10113  1.011300e+04     10111   \n",
              "unique           NaN              9796           NaN      2388   \n",
              "top              NaN  Welcome To Vaise           NaN     David   \n",
              "freq             NaN                11           NaN       161   \n",
              "mean    3.128645e+17               NaN  1.409049e+08       NaN   \n",
              "std     4.292113e+17               NaN  1.589800e+08       NaN   \n",
              "min     5.676600e+04               NaN  4.382300e+04       NaN   \n",
              "25%     1.988972e+07               NaN  2.393238e+07       NaN   \n",
              "50%     4.071661e+07               NaN  6.356759e+07       NaN   \n",
              "75%     7.661984e+17               NaN  2.194900e+08       NaN   \n",
              "max     1.117434e+18               NaN  5.670098e+08       NaN   \n",
              "\n",
              "        neighbourhood_group      neighbourhood      latitude     longitude  \\\n",
              "count                   0.0              10113  10113.000000  10113.000000   \n",
              "unique                  NaN                  9           NaN           NaN   \n",
              "top                     NaN  3e Arrondissement           NaN           NaN   \n",
              "freq                    NaN               1804           NaN           NaN   \n",
              "mean                    NaN                NaN     45.759098      4.840359   \n",
              "std                     NaN                NaN      0.013107      0.019979   \n",
              "min                     NaN                NaN     45.721930      4.773840   \n",
              "25%                     NaN                NaN     45.750847      4.828670   \n",
              "50%                     NaN                NaN     45.759170      4.836860   \n",
              "75%                     NaN                NaN     45.769050      4.852580   \n",
              "max                     NaN                NaN     45.807220      4.897530   \n",
              "\n",
              "              room_type         price  minimum_nights  number_of_reviews  \\\n",
              "count             10113   5697.000000    10113.000000       10113.000000   \n",
              "unique                4           NaN             NaN                NaN   \n",
              "top     Entire home/apt           NaN             NaN                NaN   \n",
              "freq               7901           NaN             NaN                NaN   \n",
              "mean                NaN    112.081797       77.166815          35.209236   \n",
              "std                 NaN    226.023310      146.292246          78.117394   \n",
              "min                 NaN     12.000000        1.000000           0.000000   \n",
              "25%                 NaN     59.000000        1.000000           1.000000   \n",
              "50%                 NaN     80.000000        2.000000           7.000000   \n",
              "75%                 NaN    120.000000       14.000000          31.000000   \n",
              "max                 NaN  12500.000000     1125.000000        1082.000000   \n",
              "\n",
              "       last_review  reviews_per_month  calculated_host_listings_count  \\\n",
              "count         8076        8076.000000                    10113.000000   \n",
              "unique        1579                NaN                             NaN   \n",
              "top     2024-03-17                NaN                             NaN   \n",
              "freq           525                NaN                             NaN   \n",
              "mean           NaN           1.272360                        8.188174   \n",
              "std            NaN           1.736275                       23.022586   \n",
              "min            NaN           0.010000                        1.000000   \n",
              "25%            NaN           0.140000                        1.000000   \n",
              "50%            NaN           0.560000                        1.000000   \n",
              "75%            NaN           1.752500                        2.000000   \n",
              "max            NaN          18.700000                      123.000000   \n",
              "\n",
              "        availability_365  number_of_reviews_ltm  \\\n",
              "count       10113.000000           10113.000000   \n",
              "unique               NaN                    NaN   \n",
              "top                  NaN                    NaN   \n",
              "freq                 NaN                    NaN   \n",
              "mean          105.805102               9.123702   \n",
              "std           127.159838              18.057338   \n",
              "min             0.000000               0.000000   \n",
              "25%             0.000000               0.000000   \n",
              "50%            42.000000               1.000000   \n",
              "75%           203.000000              10.000000   \n",
              "max           365.000000             209.000000   \n",
              "\n",
              "                                                  license  \n",
              "count                                                5885  \n",
              "unique                                               5114  \n",
              "top     Available with a mobility lease only (\"bail mo...  \n",
              "freq                                                  280  \n",
              "mean                                                  NaN  \n",
              "std                                                   NaN  \n",
              "min                                                   NaN  \n",
              "25%                                                   NaN  \n",
              "50%                                                   NaN  \n",
              "75%                                                   NaN  \n",
              "max                                                   NaN  "
            ],
            "text/html": [
              "\n",
              "  <div id=\"df-758a40d4-9f26-4f5d-b857-099261a5385e\" class=\"colab-df-container\">\n",
              "    <div>\n",
              "<style scoped>\n",
              "    .dataframe tbody tr th:only-of-type {\n",
              "        vertical-align: middle;\n",
              "    }\n",
              "\n",
              "    .dataframe tbody tr th {\n",
              "        vertical-align: top;\n",
              "    }\n",
              "\n",
              "    .dataframe thead th {\n",
              "        text-align: right;\n",
              "    }\n",
              "</style>\n",
              "<table border=\"1\" class=\"dataframe\">\n",
              "  <thead>\n",
              "    <tr style=\"text-align: right;\">\n",
              "      <th></th>\n",
              "      <th>id</th>\n",
              "      <th>name</th>\n",
              "      <th>host_id</th>\n",
              "      <th>host_name</th>\n",
              "      <th>neighbourhood_group</th>\n",
              "      <th>neighbourhood</th>\n",
              "      <th>latitude</th>\n",
              "      <th>longitude</th>\n",
              "      <th>room_type</th>\n",
              "      <th>price</th>\n",
              "      <th>minimum_nights</th>\n",
              "      <th>number_of_reviews</th>\n",
              "      <th>last_review</th>\n",
              "      <th>reviews_per_month</th>\n",
              "      <th>calculated_host_listings_count</th>\n",
              "      <th>availability_365</th>\n",
              "      <th>number_of_reviews_ltm</th>\n",
              "      <th>license</th>\n",
              "    </tr>\n",
              "  </thead>\n",
              "  <tbody>\n",
              "    <tr>\n",
              "      <th>count</th>\n",
              "      <td>1.011300e+04</td>\n",
              "      <td>10113</td>\n",
              "      <td>1.011300e+04</td>\n",
              "      <td>10111</td>\n",
              "      <td>0.0</td>\n",
              "      <td>10113</td>\n",
              "      <td>10113.000000</td>\n",
              "      <td>10113.000000</td>\n",
              "      <td>10113</td>\n",
              "      <td>5697.000000</td>\n",
              "      <td>10113.000000</td>\n",
              "      <td>10113.000000</td>\n",
              "      <td>8076</td>\n",
              "      <td>8076.000000</td>\n",
              "      <td>10113.000000</td>\n",
              "      <td>10113.000000</td>\n",
              "      <td>10113.000000</td>\n",
              "      <td>5885</td>\n",
              "    </tr>\n",
              "    <tr>\n",
              "      <th>unique</th>\n",
              "      <td>NaN</td>\n",
              "      <td>9796</td>\n",
              "      <td>NaN</td>\n",
              "      <td>2388</td>\n",
              "      <td>NaN</td>\n",
              "      <td>9</td>\n",
              "      <td>NaN</td>\n",
              "      <td>NaN</td>\n",
              "      <td>4</td>\n",
              "      <td>NaN</td>\n",
              "      <td>NaN</td>\n",
              "      <td>NaN</td>\n",
              "      <td>1579</td>\n",
              "      <td>NaN</td>\n",
              "      <td>NaN</td>\n",
              "      <td>NaN</td>\n",
              "      <td>NaN</td>\n",
              "      <td>5114</td>\n",
              "    </tr>\n",
              "    <tr>\n",
              "      <th>top</th>\n",
              "      <td>NaN</td>\n",
              "      <td>Welcome To Vaise</td>\n",
              "      <td>NaN</td>\n",
              "      <td>David</td>\n",
              "      <td>NaN</td>\n",
              "      <td>3e Arrondissement</td>\n",
              "      <td>NaN</td>\n",
              "      <td>NaN</td>\n",
              "      <td>Entire home/apt</td>\n",
              "      <td>NaN</td>\n",
              "      <td>NaN</td>\n",
              "      <td>NaN</td>\n",
              "      <td>2024-03-17</td>\n",
              "      <td>NaN</td>\n",
              "      <td>NaN</td>\n",
              "      <td>NaN</td>\n",
              "      <td>NaN</td>\n",
              "      <td>Available with a mobility lease only (\"bail mo...</td>\n",
              "    </tr>\n",
              "    <tr>\n",
              "      <th>freq</th>\n",
              "      <td>NaN</td>\n",
              "      <td>11</td>\n",
              "      <td>NaN</td>\n",
              "      <td>161</td>\n",
              "      <td>NaN</td>\n",
              "      <td>1804</td>\n",
              "      <td>NaN</td>\n",
              "      <td>NaN</td>\n",
              "      <td>7901</td>\n",
              "      <td>NaN</td>\n",
              "      <td>NaN</td>\n",
              "      <td>NaN</td>\n",
              "      <td>525</td>\n",
              "      <td>NaN</td>\n",
              "      <td>NaN</td>\n",
              "      <td>NaN</td>\n",
              "      <td>NaN</td>\n",
              "      <td>280</td>\n",
              "    </tr>\n",
              "    <tr>\n",
              "      <th>mean</th>\n",
              "      <td>3.128645e+17</td>\n",
              "      <td>NaN</td>\n",
              "      <td>1.409049e+08</td>\n",
              "      <td>NaN</td>\n",
              "      <td>NaN</td>\n",
              "      <td>NaN</td>\n",
              "      <td>45.759098</td>\n",
              "      <td>4.840359</td>\n",
              "      <td>NaN</td>\n",
              "      <td>112.081797</td>\n",
              "      <td>77.166815</td>\n",
              "      <td>35.209236</td>\n",
              "      <td>NaN</td>\n",
              "      <td>1.272360</td>\n",
              "      <td>8.188174</td>\n",
              "      <td>105.805102</td>\n",
              "      <td>9.123702</td>\n",
              "      <td>NaN</td>\n",
              "    </tr>\n",
              "    <tr>\n",
              "      <th>std</th>\n",
              "      <td>4.292113e+17</td>\n",
              "      <td>NaN</td>\n",
              "      <td>1.589800e+08</td>\n",
              "      <td>NaN</td>\n",
              "      <td>NaN</td>\n",
              "      <td>NaN</td>\n",
              "      <td>0.013107</td>\n",
              "      <td>0.019979</td>\n",
              "      <td>NaN</td>\n",
              "      <td>226.023310</td>\n",
              "      <td>146.292246</td>\n",
              "      <td>78.117394</td>\n",
              "      <td>NaN</td>\n",
              "      <td>1.736275</td>\n",
              "      <td>23.022586</td>\n",
              "      <td>127.159838</td>\n",
              "      <td>18.057338</td>\n",
              "      <td>NaN</td>\n",
              "    </tr>\n",
              "    <tr>\n",
              "      <th>min</th>\n",
              "      <td>5.676600e+04</td>\n",
              "      <td>NaN</td>\n",
              "      <td>4.382300e+04</td>\n",
              "      <td>NaN</td>\n",
              "      <td>NaN</td>\n",
              "      <td>NaN</td>\n",
              "      <td>45.721930</td>\n",
              "      <td>4.773840</td>\n",
              "      <td>NaN</td>\n",
              "      <td>12.000000</td>\n",
              "      <td>1.000000</td>\n",
              "      <td>0.000000</td>\n",
              "      <td>NaN</td>\n",
              "      <td>0.010000</td>\n",
              "      <td>1.000000</td>\n",
              "      <td>0.000000</td>\n",
              "      <td>0.000000</td>\n",
              "      <td>NaN</td>\n",
              "    </tr>\n",
              "    <tr>\n",
              "      <th>25%</th>\n",
              "      <td>1.988972e+07</td>\n",
              "      <td>NaN</td>\n",
              "      <td>2.393238e+07</td>\n",
              "      <td>NaN</td>\n",
              "      <td>NaN</td>\n",
              "      <td>NaN</td>\n",
              "      <td>45.750847</td>\n",
              "      <td>4.828670</td>\n",
              "      <td>NaN</td>\n",
              "      <td>59.000000</td>\n",
              "      <td>1.000000</td>\n",
              "      <td>1.000000</td>\n",
              "      <td>NaN</td>\n",
              "      <td>0.140000</td>\n",
              "      <td>1.000000</td>\n",
              "      <td>0.000000</td>\n",
              "      <td>0.000000</td>\n",
              "      <td>NaN</td>\n",
              "    </tr>\n",
              "    <tr>\n",
              "      <th>50%</th>\n",
              "      <td>4.071661e+07</td>\n",
              "      <td>NaN</td>\n",
              "      <td>6.356759e+07</td>\n",
              "      <td>NaN</td>\n",
              "      <td>NaN</td>\n",
              "      <td>NaN</td>\n",
              "      <td>45.759170</td>\n",
              "      <td>4.836860</td>\n",
              "      <td>NaN</td>\n",
              "      <td>80.000000</td>\n",
              "      <td>2.000000</td>\n",
              "      <td>7.000000</td>\n",
              "      <td>NaN</td>\n",
              "      <td>0.560000</td>\n",
              "      <td>1.000000</td>\n",
              "      <td>42.000000</td>\n",
              "      <td>1.000000</td>\n",
              "      <td>NaN</td>\n",
              "    </tr>\n",
              "    <tr>\n",
              "      <th>75%</th>\n",
              "      <td>7.661984e+17</td>\n",
              "      <td>NaN</td>\n",
              "      <td>2.194900e+08</td>\n",
              "      <td>NaN</td>\n",
              "      <td>NaN</td>\n",
              "      <td>NaN</td>\n",
              "      <td>45.769050</td>\n",
              "      <td>4.852580</td>\n",
              "      <td>NaN</td>\n",
              "      <td>120.000000</td>\n",
              "      <td>14.000000</td>\n",
              "      <td>31.000000</td>\n",
              "      <td>NaN</td>\n",
              "      <td>1.752500</td>\n",
              "      <td>2.000000</td>\n",
              "      <td>203.000000</td>\n",
              "      <td>10.000000</td>\n",
              "      <td>NaN</td>\n",
              "    </tr>\n",
              "    <tr>\n",
              "      <th>max</th>\n",
              "      <td>1.117434e+18</td>\n",
              "      <td>NaN</td>\n",
              "      <td>5.670098e+08</td>\n",
              "      <td>NaN</td>\n",
              "      <td>NaN</td>\n",
              "      <td>NaN</td>\n",
              "      <td>45.807220</td>\n",
              "      <td>4.897530</td>\n",
              "      <td>NaN</td>\n",
              "      <td>12500.000000</td>\n",
              "      <td>1125.000000</td>\n",
              "      <td>1082.000000</td>\n",
              "      <td>NaN</td>\n",
              "      <td>18.700000</td>\n",
              "      <td>123.000000</td>\n",
              "      <td>365.000000</td>\n",
              "      <td>209.000000</td>\n",
              "      <td>NaN</td>\n",
              "    </tr>\n",
              "  </tbody>\n",
              "</table>\n",
              "</div>\n",
              "    <div class=\"colab-df-buttons\">\n",
              "\n",
              "  <div class=\"colab-df-container\">\n",
              "    <button class=\"colab-df-convert\" onclick=\"convertToInteractive('df-758a40d4-9f26-4f5d-b857-099261a5385e')\"\n",
              "            title=\"Convert this dataframe to an interactive table.\"\n",
              "            style=\"display:none;\">\n",
              "\n",
              "  <svg xmlns=\"http://www.w3.org/2000/svg\" height=\"24px\" viewBox=\"0 -960 960 960\">\n",
              "    <path d=\"M120-120v-720h720v720H120Zm60-500h600v-160H180v160Zm220 220h160v-160H400v160Zm0 220h160v-160H400v160ZM180-400h160v-160H180v160Zm440 0h160v-160H620v160ZM180-180h160v-160H180v160Zm440 0h160v-160H620v160Z\"/>\n",
              "  </svg>\n",
              "    </button>\n",
              "\n",
              "  <style>\n",
              "    .colab-df-container {\n",
              "      display:flex;\n",
              "      gap: 12px;\n",
              "    }\n",
              "\n",
              "    .colab-df-convert {\n",
              "      background-color: #E8F0FE;\n",
              "      border: none;\n",
              "      border-radius: 50%;\n",
              "      cursor: pointer;\n",
              "      display: none;\n",
              "      fill: #1967D2;\n",
              "      height: 32px;\n",
              "      padding: 0 0 0 0;\n",
              "      width: 32px;\n",
              "    }\n",
              "\n",
              "    .colab-df-convert:hover {\n",
              "      background-color: #E2EBFA;\n",
              "      box-shadow: 0px 1px 2px rgba(60, 64, 67, 0.3), 0px 1px 3px 1px rgba(60, 64, 67, 0.15);\n",
              "      fill: #174EA6;\n",
              "    }\n",
              "\n",
              "    .colab-df-buttons div {\n",
              "      margin-bottom: 4px;\n",
              "    }\n",
              "\n",
              "    [theme=dark] .colab-df-convert {\n",
              "      background-color: #3B4455;\n",
              "      fill: #D2E3FC;\n",
              "    }\n",
              "\n",
              "    [theme=dark] .colab-df-convert:hover {\n",
              "      background-color: #434B5C;\n",
              "      box-shadow: 0px 1px 3px 1px rgba(0, 0, 0, 0.15);\n",
              "      filter: drop-shadow(0px 1px 2px rgba(0, 0, 0, 0.3));\n",
              "      fill: #FFFFFF;\n",
              "    }\n",
              "  </style>\n",
              "\n",
              "    <script>\n",
              "      const buttonEl =\n",
              "        document.querySelector('#df-758a40d4-9f26-4f5d-b857-099261a5385e button.colab-df-convert');\n",
              "      buttonEl.style.display =\n",
              "        google.colab.kernel.accessAllowed ? 'block' : 'none';\n",
              "\n",
              "      async function convertToInteractive(key) {\n",
              "        const element = document.querySelector('#df-758a40d4-9f26-4f5d-b857-099261a5385e');\n",
              "        const dataTable =\n",
              "          await google.colab.kernel.invokeFunction('convertToInteractive',\n",
              "                                                    [key], {});\n",
              "        if (!dataTable) return;\n",
              "\n",
              "        const docLinkHtml = 'Like what you see? Visit the ' +\n",
              "          '<a target=\"_blank\" href=https://colab.research.google.com/notebooks/data_table.ipynb>data table notebook</a>'\n",
              "          + ' to learn more about interactive tables.';\n",
              "        element.innerHTML = '';\n",
              "        dataTable['output_type'] = 'display_data';\n",
              "        await google.colab.output.renderOutput(dataTable, element);\n",
              "        const docLink = document.createElement('div');\n",
              "        docLink.innerHTML = docLinkHtml;\n",
              "        element.appendChild(docLink);\n",
              "      }\n",
              "    </script>\n",
              "  </div>\n",
              "\n",
              "\n",
              "<div id=\"df-64b01171-0d78-4909-bb65-7ce93f45c615\">\n",
              "  <button class=\"colab-df-quickchart\" onclick=\"quickchart('df-64b01171-0d78-4909-bb65-7ce93f45c615')\"\n",
              "            title=\"Suggest charts\"\n",
              "            style=\"display:none;\">\n",
              "\n",
              "<svg xmlns=\"http://www.w3.org/2000/svg\" height=\"24px\"viewBox=\"0 0 24 24\"\n",
              "     width=\"24px\">\n",
              "    <g>\n",
              "        <path d=\"M19 3H5c-1.1 0-2 .9-2 2v14c0 1.1.9 2 2 2h14c1.1 0 2-.9 2-2V5c0-1.1-.9-2-2-2zM9 17H7v-7h2v7zm4 0h-2V7h2v10zm4 0h-2v-4h2v4z\"/>\n",
              "    </g>\n",
              "</svg>\n",
              "  </button>\n",
              "\n",
              "<style>\n",
              "  .colab-df-quickchart {\n",
              "      --bg-color: #E8F0FE;\n",
              "      --fill-color: #1967D2;\n",
              "      --hover-bg-color: #E2EBFA;\n",
              "      --hover-fill-color: #174EA6;\n",
              "      --disabled-fill-color: #AAA;\n",
              "      --disabled-bg-color: #DDD;\n",
              "  }\n",
              "\n",
              "  [theme=dark] .colab-df-quickchart {\n",
              "      --bg-color: #3B4455;\n",
              "      --fill-color: #D2E3FC;\n",
              "      --hover-bg-color: #434B5C;\n",
              "      --hover-fill-color: #FFFFFF;\n",
              "      --disabled-bg-color: #3B4455;\n",
              "      --disabled-fill-color: #666;\n",
              "  }\n",
              "\n",
              "  .colab-df-quickchart {\n",
              "    background-color: var(--bg-color);\n",
              "    border: none;\n",
              "    border-radius: 50%;\n",
              "    cursor: pointer;\n",
              "    display: none;\n",
              "    fill: var(--fill-color);\n",
              "    height: 32px;\n",
              "    padding: 0;\n",
              "    width: 32px;\n",
              "  }\n",
              "\n",
              "  .colab-df-quickchart:hover {\n",
              "    background-color: var(--hover-bg-color);\n",
              "    box-shadow: 0 1px 2px rgba(60, 64, 67, 0.3), 0 1px 3px 1px rgba(60, 64, 67, 0.15);\n",
              "    fill: var(--button-hover-fill-color);\n",
              "  }\n",
              "\n",
              "  .colab-df-quickchart-complete:disabled,\n",
              "  .colab-df-quickchart-complete:disabled:hover {\n",
              "    background-color: var(--disabled-bg-color);\n",
              "    fill: var(--disabled-fill-color);\n",
              "    box-shadow: none;\n",
              "  }\n",
              "\n",
              "  .colab-df-spinner {\n",
              "    border: 2px solid var(--fill-color);\n",
              "    border-color: transparent;\n",
              "    border-bottom-color: var(--fill-color);\n",
              "    animation:\n",
              "      spin 1s steps(1) infinite;\n",
              "  }\n",
              "\n",
              "  @keyframes spin {\n",
              "    0% {\n",
              "      border-color: transparent;\n",
              "      border-bottom-color: var(--fill-color);\n",
              "      border-left-color: var(--fill-color);\n",
              "    }\n",
              "    20% {\n",
              "      border-color: transparent;\n",
              "      border-left-color: var(--fill-color);\n",
              "      border-top-color: var(--fill-color);\n",
              "    }\n",
              "    30% {\n",
              "      border-color: transparent;\n",
              "      border-left-color: var(--fill-color);\n",
              "      border-top-color: var(--fill-color);\n",
              "      border-right-color: var(--fill-color);\n",
              "    }\n",
              "    40% {\n",
              "      border-color: transparent;\n",
              "      border-right-color: var(--fill-color);\n",
              "      border-top-color: var(--fill-color);\n",
              "    }\n",
              "    60% {\n",
              "      border-color: transparent;\n",
              "      border-right-color: var(--fill-color);\n",
              "    }\n",
              "    80% {\n",
              "      border-color: transparent;\n",
              "      border-right-color: var(--fill-color);\n",
              "      border-bottom-color: var(--fill-color);\n",
              "    }\n",
              "    90% {\n",
              "      border-color: transparent;\n",
              "      border-bottom-color: var(--fill-color);\n",
              "    }\n",
              "  }\n",
              "</style>\n",
              "\n",
              "  <script>\n",
              "    async function quickchart(key) {\n",
              "      const quickchartButtonEl =\n",
              "        document.querySelector('#' + key + ' button');\n",
              "      quickchartButtonEl.disabled = true;  // To prevent multiple clicks.\n",
              "      quickchartButtonEl.classList.add('colab-df-spinner');\n",
              "      try {\n",
              "        const charts = await google.colab.kernel.invokeFunction(\n",
              "            'suggestCharts', [key], {});\n",
              "      } catch (error) {\n",
              "        console.error('Error during call to suggestCharts:', error);\n",
              "      }\n",
              "      quickchartButtonEl.classList.remove('colab-df-spinner');\n",
              "      quickchartButtonEl.classList.add('colab-df-quickchart-complete');\n",
              "    }\n",
              "    (() => {\n",
              "      let quickchartButtonEl =\n",
              "        document.querySelector('#df-64b01171-0d78-4909-bb65-7ce93f45c615 button');\n",
              "      quickchartButtonEl.style.display =\n",
              "        google.colab.kernel.accessAllowed ? 'block' : 'none';\n",
              "    })();\n",
              "  </script>\n",
              "</div>\n",
              "\n",
              "    </div>\n",
              "  </div>\n"
            ],
            "application/vnd.google.colaboratory.intrinsic+json": {
              "type": "dataframe",
              "summary": "{\n  \"name\": \"l_listings\",\n  \"rows\": 11,\n  \"fields\": [\n    {\n      \"column\": \"id\",\n      \"properties\": {\n        \"dtype\": \"number\",\n        \"std\": 4.2359558127673926e+17,\n        \"min\": 10113.0,\n        \"max\": 1.1174340973425937e+18,\n        \"num_unique_values\": 8,\n        \"samples\": [\n          3.128644543427092e+17,\n          40716610.0,\n          10113.0\n        ],\n        \"semantic_type\": \"\",\n        \"description\": \"\"\n      }\n    },\n    {\n      \"column\": \"name\",\n      \"properties\": {\n        \"dtype\": \"category\",\n        \"num_unique_values\": 4,\n        \"samples\": [\n          9796,\n          \"11\",\n          \"10113\"\n        ],\n        \"semantic_type\": \"\",\n        \"description\": \"\"\n      }\n    },\n    {\n      \"column\": \"host_id\",\n      \"properties\": {\n        \"dtype\": \"number\",\n        \"std\": 187902684.84180328,\n        \"min\": 10113.0,\n        \"max\": 567009811.0,\n        \"num_unique_values\": 8,\n        \"samples\": [\n          140904944.2463166,\n          63567589.0,\n          10113.0\n        ],\n        \"semantic_type\": \"\",\n        \"description\": \"\"\n      }\n    },\n    {\n      \"column\": \"host_name\",\n      \"properties\": {\n        \"dtype\": \"category\",\n        \"num_unique_values\": 4,\n        \"samples\": [\n          2388,\n          \"161\",\n          \"10111\"\n        ],\n        \"semantic_type\": \"\",\n        \"description\": \"\"\n      }\n    },\n    {\n      \"column\": \"neighbourhood_group\",\n      \"properties\": {\n        \"dtype\": \"number\",\n        \"std\": null,\n        \"min\": 0.0,\n        \"max\": 0.0,\n        \"num_unique_values\": 1,\n        \"samples\": [\n          0.0\n        ],\n        \"semantic_type\": \"\",\n        \"description\": \"\"\n      }\n    },\n    {\n      \"column\": \"neighbourhood\",\n      \"properties\": {\n        \"dtype\": \"category\",\n        \"num_unique_values\": 4,\n        \"samples\": [\n          9\n        ],\n        \"semantic_type\": \"\",\n        \"description\": \"\"\n      }\n    },\n    {\n      \"column\": \"latitude\",\n      \"properties\": {\n        \"dtype\": \"number\",\n        \"std\": 3561.653010303987,\n        \"min\": 0.013107062410261997,\n        \"max\": 10113.0,\n        \"num_unique_values\": 8,\n        \"samples\": [\n          45.75909823287408\n        ],\n        \"semantic_type\": \"\",\n        \"description\": \"\"\n      }\n    },\n    {\n      \"column\": \"longitude\",\n      \"properties\": {\n        \"dtype\": \"number\",\n        \"std\": 3574.0185995456372,\n        \"min\": 0.0199789170303756,\n        \"max\": 10113.0,\n        \"num_unique_values\": 8,\n        \"samples\": [\n          4.840359276403741\n        ],\n        \"semantic_type\": \"\",\n        \"description\": \"\"\n      }\n    },\n    {\n      \"column\": \"room_type\",\n      \"properties\": {\n        \"dtype\": \"category\",\n        \"num_unique_values\": 4,\n        \"samples\": [\n          4\n        ],\n        \"semantic_type\": \"\",\n        \"description\": \"\"\n      }\n    },\n    {\n      \"column\": \"price\",\n      \"properties\": {\n        \"dtype\": \"number\",\n        \"std\": 4544.78011732069,\n        \"min\": 12.0,\n        \"max\": 12500.0,\n        \"num_unique_values\": 8,\n        \"samples\": [\n          112.08179743724767\n        ],\n        \"semantic_type\": \"\",\n        \"description\": \"\"\n      }\n    },\n    {\n      \"column\": \"minimum_nights\",\n      \"properties\": {\n        \"dtype\": \"number\",\n        \"std\": 3527.3159483613335,\n        \"min\": 1.0,\n        \"max\": 10113.0,\n        \"num_unique_values\": 7,\n        \"samples\": [\n          10113.0\n        ],\n        \"semantic_type\": \"\",\n        \"description\": \"\"\n      }\n    },\n    {\n      \"column\": \"number_of_reviews\",\n      \"properties\": {\n        \"dtype\": \"number\",\n        \"std\": 3532.6359707387555,\n        \"min\": 0.0,\n        \"max\": 10113.0,\n        \"num_unique_values\": 8,\n        \"samples\": [\n          35.20923563729853\n        ],\n        \"semantic_type\": \"\",\n        \"description\": \"\"\n      }\n    },\n    {\n      \"column\": \"last_review\",\n      \"properties\": {\n        \"dtype\": \"date\",\n        \"min\": \"1970-01-01 00:00:00.000000525\",\n        \"max\": \"2024-03-17 00:00:00\",\n        \"num_unique_values\": 4,\n        \"samples\": [\n          1579\n        ],\n        \"semantic_type\": \"\",\n        \"description\": \"\"\n      }\n    },\n    {\n      \"column\": \"reviews_per_month\",\n      \"properties\": {\n        \"dtype\": \"number\",\n        \"std\": 2854.083219745917,\n        \"min\": 0.01,\n        \"max\": 8076.0,\n        \"num_unique_values\": 8,\n        \"samples\": [\n          1.272360079247152\n        ],\n        \"semantic_type\": \"\",\n        \"description\": \"\"\n      }\n    },\n    {\n      \"column\": \"calculated_host_listings_count\",\n      \"properties\": {\n        \"dtype\": \"number\",\n        \"std\": 3567.6865823728713,\n        \"min\": 1.0,\n        \"max\": 10113.0,\n        \"num_unique_values\": 6,\n        \"samples\": [\n          10113.0\n        ],\n        \"semantic_type\": \"\",\n        \"description\": \"\"\n      }\n    },\n    {\n      \"column\": \"availability_365\",\n      \"properties\": {\n        \"dtype\": \"number\",\n        \"std\": 3534.9719209116524,\n        \"min\": 0.0,\n        \"max\": 10113.0,\n        \"num_unique_values\": 7,\n        \"samples\": [\n          10113.0\n        ],\n        \"semantic_type\": \"\",\n        \"description\": \"\"\n      }\n    },\n    {\n      \"column\": \"number_of_reviews_ltm\",\n      \"properties\": {\n        \"dtype\": \"number\",\n        \"std\": 3563.711777072415,\n        \"min\": 0.0,\n        \"max\": 10113.0,\n        \"num_unique_values\": 7,\n        \"samples\": [\n          10113.0\n        ],\n        \"semantic_type\": \"\",\n        \"description\": \"\"\n      }\n    },\n    {\n      \"column\": \"license\",\n      \"properties\": {\n        \"dtype\": \"category\",\n        \"num_unique_values\": 4,\n        \"samples\": [\n          5114\n        ],\n        \"semantic_type\": \"\",\n        \"description\": \"\"\n      }\n    }\n  ]\n}"
            }
          },
          "metadata": {},
          "execution_count": 32
        }
      ]
    },
    {
      "cell_type": "code",
      "source": [
        "l_listings.head()"
      ],
      "metadata": {
        "colab": {
          "base_uri": "https://localhost:8080/",
          "height": 479
        },
        "id": "4Jnbq7wuOOYz",
        "outputId": "ac8578b7-a513-43e1-e75e-81441a739550"
      },
      "execution_count": 33,
      "outputs": [
        {
          "output_type": "execute_result",
          "data": {
            "text/plain": [
              "       id                                           name  host_id   host_name  \\\n",
              "0   56766                  Duplex avec vue, centre ville   269557    Isabelle   \n",
              "1   77104                Nice Flat in the center of Lyon   411285  Clementine   \n",
              "2  134539             Centre of old town,home sweet home   660135      Polali   \n",
              "3  174304  Quartier Terreaux 4/6 pers. Hyper centre/Clim   832917  Giuseppina   \n",
              "4  233372            Clear &very central flat Vieux Lyon  1221417         Max   \n",
              "\n",
              "   neighbourhood_group       neighbourhood  latitude  longitude  \\\n",
              "0                  NaN   5e Arrondissement  45.76312    4.82813   \n",
              "1                  NaN  1er Arrondissement  45.76842    4.82745   \n",
              "2                  NaN   5e Arrondissement  45.75930    4.82548   \n",
              "3                  NaN  1er Arrondissement  45.76695    4.83241   \n",
              "4                  NaN   5e Arrondissement  45.75935    4.82228   \n",
              "\n",
              "         room_type  price  minimum_nights  number_of_reviews last_review  \\\n",
              "0  Entire home/apt  125.0              60                 55  2023-10-29   \n",
              "1  Entire home/apt  100.0               2                 24  2023-10-07   \n",
              "2  Entire home/apt   80.0               2                132  2023-12-10   \n",
              "3  Entire home/apt  201.0               2                429  2024-03-10   \n",
              "4  Entire home/apt   52.0               2                316  2024-03-21   \n",
              "\n",
              "   reviews_per_month  calculated_host_listings_count  availability_365  \\\n",
              "0               0.34                               1               210   \n",
              "1               0.15                               1                75   \n",
              "2               0.85                               1                82   \n",
              "3               3.02                               2               115   \n",
              "4               2.09                               1               218   \n",
              "\n",
              "   number_of_reviews_ltm                                            license  \n",
              "0                      1  Available with a mobility lease only (\"bail mo...  \n",
              "1                      2                                      6938113058353  \n",
              "2                      6                                      6938513221658  \n",
              "3                     42                                      6938112368465  \n",
              "4                     64                                      6938512680042  "
            ],
            "text/html": [
              "\n",
              "  <div id=\"df-43941ea9-dbf2-46fb-befd-2554971e13ca\" class=\"colab-df-container\">\n",
              "    <div>\n",
              "<style scoped>\n",
              "    .dataframe tbody tr th:only-of-type {\n",
              "        vertical-align: middle;\n",
              "    }\n",
              "\n",
              "    .dataframe tbody tr th {\n",
              "        vertical-align: top;\n",
              "    }\n",
              "\n",
              "    .dataframe thead th {\n",
              "        text-align: right;\n",
              "    }\n",
              "</style>\n",
              "<table border=\"1\" class=\"dataframe\">\n",
              "  <thead>\n",
              "    <tr style=\"text-align: right;\">\n",
              "      <th></th>\n",
              "      <th>id</th>\n",
              "      <th>name</th>\n",
              "      <th>host_id</th>\n",
              "      <th>host_name</th>\n",
              "      <th>neighbourhood_group</th>\n",
              "      <th>neighbourhood</th>\n",
              "      <th>latitude</th>\n",
              "      <th>longitude</th>\n",
              "      <th>room_type</th>\n",
              "      <th>price</th>\n",
              "      <th>minimum_nights</th>\n",
              "      <th>number_of_reviews</th>\n",
              "      <th>last_review</th>\n",
              "      <th>reviews_per_month</th>\n",
              "      <th>calculated_host_listings_count</th>\n",
              "      <th>availability_365</th>\n",
              "      <th>number_of_reviews_ltm</th>\n",
              "      <th>license</th>\n",
              "    </tr>\n",
              "  </thead>\n",
              "  <tbody>\n",
              "    <tr>\n",
              "      <th>0</th>\n",
              "      <td>56766</td>\n",
              "      <td>Duplex avec vue, centre ville</td>\n",
              "      <td>269557</td>\n",
              "      <td>Isabelle</td>\n",
              "      <td>NaN</td>\n",
              "      <td>5e Arrondissement</td>\n",
              "      <td>45.76312</td>\n",
              "      <td>4.82813</td>\n",
              "      <td>Entire home/apt</td>\n",
              "      <td>125.0</td>\n",
              "      <td>60</td>\n",
              "      <td>55</td>\n",
              "      <td>2023-10-29</td>\n",
              "      <td>0.34</td>\n",
              "      <td>1</td>\n",
              "      <td>210</td>\n",
              "      <td>1</td>\n",
              "      <td>Available with a mobility lease only (\"bail mo...</td>\n",
              "    </tr>\n",
              "    <tr>\n",
              "      <th>1</th>\n",
              "      <td>77104</td>\n",
              "      <td>Nice Flat in the center of Lyon</td>\n",
              "      <td>411285</td>\n",
              "      <td>Clementine</td>\n",
              "      <td>NaN</td>\n",
              "      <td>1er Arrondissement</td>\n",
              "      <td>45.76842</td>\n",
              "      <td>4.82745</td>\n",
              "      <td>Entire home/apt</td>\n",
              "      <td>100.0</td>\n",
              "      <td>2</td>\n",
              "      <td>24</td>\n",
              "      <td>2023-10-07</td>\n",
              "      <td>0.15</td>\n",
              "      <td>1</td>\n",
              "      <td>75</td>\n",
              "      <td>2</td>\n",
              "      <td>6938113058353</td>\n",
              "    </tr>\n",
              "    <tr>\n",
              "      <th>2</th>\n",
              "      <td>134539</td>\n",
              "      <td>Centre of old town,home sweet home</td>\n",
              "      <td>660135</td>\n",
              "      <td>Polali</td>\n",
              "      <td>NaN</td>\n",
              "      <td>5e Arrondissement</td>\n",
              "      <td>45.75930</td>\n",
              "      <td>4.82548</td>\n",
              "      <td>Entire home/apt</td>\n",
              "      <td>80.0</td>\n",
              "      <td>2</td>\n",
              "      <td>132</td>\n",
              "      <td>2023-12-10</td>\n",
              "      <td>0.85</td>\n",
              "      <td>1</td>\n",
              "      <td>82</td>\n",
              "      <td>6</td>\n",
              "      <td>6938513221658</td>\n",
              "    </tr>\n",
              "    <tr>\n",
              "      <th>3</th>\n",
              "      <td>174304</td>\n",
              "      <td>Quartier Terreaux 4/6 pers. Hyper centre/Clim</td>\n",
              "      <td>832917</td>\n",
              "      <td>Giuseppina</td>\n",
              "      <td>NaN</td>\n",
              "      <td>1er Arrondissement</td>\n",
              "      <td>45.76695</td>\n",
              "      <td>4.83241</td>\n",
              "      <td>Entire home/apt</td>\n",
              "      <td>201.0</td>\n",
              "      <td>2</td>\n",
              "      <td>429</td>\n",
              "      <td>2024-03-10</td>\n",
              "      <td>3.02</td>\n",
              "      <td>2</td>\n",
              "      <td>115</td>\n",
              "      <td>42</td>\n",
              "      <td>6938112368465</td>\n",
              "    </tr>\n",
              "    <tr>\n",
              "      <th>4</th>\n",
              "      <td>233372</td>\n",
              "      <td>Clear &amp;very central flat Vieux Lyon</td>\n",
              "      <td>1221417</td>\n",
              "      <td>Max</td>\n",
              "      <td>NaN</td>\n",
              "      <td>5e Arrondissement</td>\n",
              "      <td>45.75935</td>\n",
              "      <td>4.82228</td>\n",
              "      <td>Entire home/apt</td>\n",
              "      <td>52.0</td>\n",
              "      <td>2</td>\n",
              "      <td>316</td>\n",
              "      <td>2024-03-21</td>\n",
              "      <td>2.09</td>\n",
              "      <td>1</td>\n",
              "      <td>218</td>\n",
              "      <td>64</td>\n",
              "      <td>6938512680042</td>\n",
              "    </tr>\n",
              "  </tbody>\n",
              "</table>\n",
              "</div>\n",
              "    <div class=\"colab-df-buttons\">\n",
              "\n",
              "  <div class=\"colab-df-container\">\n",
              "    <button class=\"colab-df-convert\" onclick=\"convertToInteractive('df-43941ea9-dbf2-46fb-befd-2554971e13ca')\"\n",
              "            title=\"Convert this dataframe to an interactive table.\"\n",
              "            style=\"display:none;\">\n",
              "\n",
              "  <svg xmlns=\"http://www.w3.org/2000/svg\" height=\"24px\" viewBox=\"0 -960 960 960\">\n",
              "    <path d=\"M120-120v-720h720v720H120Zm60-500h600v-160H180v160Zm220 220h160v-160H400v160Zm0 220h160v-160H400v160ZM180-400h160v-160H180v160Zm440 0h160v-160H620v160ZM180-180h160v-160H180v160Zm440 0h160v-160H620v160Z\"/>\n",
              "  </svg>\n",
              "    </button>\n",
              "\n",
              "  <style>\n",
              "    .colab-df-container {\n",
              "      display:flex;\n",
              "      gap: 12px;\n",
              "    }\n",
              "\n",
              "    .colab-df-convert {\n",
              "      background-color: #E8F0FE;\n",
              "      border: none;\n",
              "      border-radius: 50%;\n",
              "      cursor: pointer;\n",
              "      display: none;\n",
              "      fill: #1967D2;\n",
              "      height: 32px;\n",
              "      padding: 0 0 0 0;\n",
              "      width: 32px;\n",
              "    }\n",
              "\n",
              "    .colab-df-convert:hover {\n",
              "      background-color: #E2EBFA;\n",
              "      box-shadow: 0px 1px 2px rgba(60, 64, 67, 0.3), 0px 1px 3px 1px rgba(60, 64, 67, 0.15);\n",
              "      fill: #174EA6;\n",
              "    }\n",
              "\n",
              "    .colab-df-buttons div {\n",
              "      margin-bottom: 4px;\n",
              "    }\n",
              "\n",
              "    [theme=dark] .colab-df-convert {\n",
              "      background-color: #3B4455;\n",
              "      fill: #D2E3FC;\n",
              "    }\n",
              "\n",
              "    [theme=dark] .colab-df-convert:hover {\n",
              "      background-color: #434B5C;\n",
              "      box-shadow: 0px 1px 3px 1px rgba(0, 0, 0, 0.15);\n",
              "      filter: drop-shadow(0px 1px 2px rgba(0, 0, 0, 0.3));\n",
              "      fill: #FFFFFF;\n",
              "    }\n",
              "  </style>\n",
              "\n",
              "    <script>\n",
              "      const buttonEl =\n",
              "        document.querySelector('#df-43941ea9-dbf2-46fb-befd-2554971e13ca button.colab-df-convert');\n",
              "      buttonEl.style.display =\n",
              "        google.colab.kernel.accessAllowed ? 'block' : 'none';\n",
              "\n",
              "      async function convertToInteractive(key) {\n",
              "        const element = document.querySelector('#df-43941ea9-dbf2-46fb-befd-2554971e13ca');\n",
              "        const dataTable =\n",
              "          await google.colab.kernel.invokeFunction('convertToInteractive',\n",
              "                                                    [key], {});\n",
              "        if (!dataTable) return;\n",
              "\n",
              "        const docLinkHtml = 'Like what you see? Visit the ' +\n",
              "          '<a target=\"_blank\" href=https://colab.research.google.com/notebooks/data_table.ipynb>data table notebook</a>'\n",
              "          + ' to learn more about interactive tables.';\n",
              "        element.innerHTML = '';\n",
              "        dataTable['output_type'] = 'display_data';\n",
              "        await google.colab.output.renderOutput(dataTable, element);\n",
              "        const docLink = document.createElement('div');\n",
              "        docLink.innerHTML = docLinkHtml;\n",
              "        element.appendChild(docLink);\n",
              "      }\n",
              "    </script>\n",
              "  </div>\n",
              "\n",
              "\n",
              "<div id=\"df-3f8a584d-f8af-4826-8cd2-9cd0f36bf9c8\">\n",
              "  <button class=\"colab-df-quickchart\" onclick=\"quickchart('df-3f8a584d-f8af-4826-8cd2-9cd0f36bf9c8')\"\n",
              "            title=\"Suggest charts\"\n",
              "            style=\"display:none;\">\n",
              "\n",
              "<svg xmlns=\"http://www.w3.org/2000/svg\" height=\"24px\"viewBox=\"0 0 24 24\"\n",
              "     width=\"24px\">\n",
              "    <g>\n",
              "        <path d=\"M19 3H5c-1.1 0-2 .9-2 2v14c0 1.1.9 2 2 2h14c1.1 0 2-.9 2-2V5c0-1.1-.9-2-2-2zM9 17H7v-7h2v7zm4 0h-2V7h2v10zm4 0h-2v-4h2v4z\"/>\n",
              "    </g>\n",
              "</svg>\n",
              "  </button>\n",
              "\n",
              "<style>\n",
              "  .colab-df-quickchart {\n",
              "      --bg-color: #E8F0FE;\n",
              "      --fill-color: #1967D2;\n",
              "      --hover-bg-color: #E2EBFA;\n",
              "      --hover-fill-color: #174EA6;\n",
              "      --disabled-fill-color: #AAA;\n",
              "      --disabled-bg-color: #DDD;\n",
              "  }\n",
              "\n",
              "  [theme=dark] .colab-df-quickchart {\n",
              "      --bg-color: #3B4455;\n",
              "      --fill-color: #D2E3FC;\n",
              "      --hover-bg-color: #434B5C;\n",
              "      --hover-fill-color: #FFFFFF;\n",
              "      --disabled-bg-color: #3B4455;\n",
              "      --disabled-fill-color: #666;\n",
              "  }\n",
              "\n",
              "  .colab-df-quickchart {\n",
              "    background-color: var(--bg-color);\n",
              "    border: none;\n",
              "    border-radius: 50%;\n",
              "    cursor: pointer;\n",
              "    display: none;\n",
              "    fill: var(--fill-color);\n",
              "    height: 32px;\n",
              "    padding: 0;\n",
              "    width: 32px;\n",
              "  }\n",
              "\n",
              "  .colab-df-quickchart:hover {\n",
              "    background-color: var(--hover-bg-color);\n",
              "    box-shadow: 0 1px 2px rgba(60, 64, 67, 0.3), 0 1px 3px 1px rgba(60, 64, 67, 0.15);\n",
              "    fill: var(--button-hover-fill-color);\n",
              "  }\n",
              "\n",
              "  .colab-df-quickchart-complete:disabled,\n",
              "  .colab-df-quickchart-complete:disabled:hover {\n",
              "    background-color: var(--disabled-bg-color);\n",
              "    fill: var(--disabled-fill-color);\n",
              "    box-shadow: none;\n",
              "  }\n",
              "\n",
              "  .colab-df-spinner {\n",
              "    border: 2px solid var(--fill-color);\n",
              "    border-color: transparent;\n",
              "    border-bottom-color: var(--fill-color);\n",
              "    animation:\n",
              "      spin 1s steps(1) infinite;\n",
              "  }\n",
              "\n",
              "  @keyframes spin {\n",
              "    0% {\n",
              "      border-color: transparent;\n",
              "      border-bottom-color: var(--fill-color);\n",
              "      border-left-color: var(--fill-color);\n",
              "    }\n",
              "    20% {\n",
              "      border-color: transparent;\n",
              "      border-left-color: var(--fill-color);\n",
              "      border-top-color: var(--fill-color);\n",
              "    }\n",
              "    30% {\n",
              "      border-color: transparent;\n",
              "      border-left-color: var(--fill-color);\n",
              "      border-top-color: var(--fill-color);\n",
              "      border-right-color: var(--fill-color);\n",
              "    }\n",
              "    40% {\n",
              "      border-color: transparent;\n",
              "      border-right-color: var(--fill-color);\n",
              "      border-top-color: var(--fill-color);\n",
              "    }\n",
              "    60% {\n",
              "      border-color: transparent;\n",
              "      border-right-color: var(--fill-color);\n",
              "    }\n",
              "    80% {\n",
              "      border-color: transparent;\n",
              "      border-right-color: var(--fill-color);\n",
              "      border-bottom-color: var(--fill-color);\n",
              "    }\n",
              "    90% {\n",
              "      border-color: transparent;\n",
              "      border-bottom-color: var(--fill-color);\n",
              "    }\n",
              "  }\n",
              "</style>\n",
              "\n",
              "  <script>\n",
              "    async function quickchart(key) {\n",
              "      const quickchartButtonEl =\n",
              "        document.querySelector('#' + key + ' button');\n",
              "      quickchartButtonEl.disabled = true;  // To prevent multiple clicks.\n",
              "      quickchartButtonEl.classList.add('colab-df-spinner');\n",
              "      try {\n",
              "        const charts = await google.colab.kernel.invokeFunction(\n",
              "            'suggestCharts', [key], {});\n",
              "      } catch (error) {\n",
              "        console.error('Error during call to suggestCharts:', error);\n",
              "      }\n",
              "      quickchartButtonEl.classList.remove('colab-df-spinner');\n",
              "      quickchartButtonEl.classList.add('colab-df-quickchart-complete');\n",
              "    }\n",
              "    (() => {\n",
              "      let quickchartButtonEl =\n",
              "        document.querySelector('#df-3f8a584d-f8af-4826-8cd2-9cd0f36bf9c8 button');\n",
              "      quickchartButtonEl.style.display =\n",
              "        google.colab.kernel.accessAllowed ? 'block' : 'none';\n",
              "    })();\n",
              "  </script>\n",
              "</div>\n",
              "\n",
              "    </div>\n",
              "  </div>\n"
            ],
            "application/vnd.google.colaboratory.intrinsic+json": {
              "type": "dataframe",
              "variable_name": "l_listings",
              "summary": "{\n  \"name\": \"l_listings\",\n  \"rows\": 10113,\n  \"fields\": [\n    {\n      \"column\": \"id\",\n      \"properties\": {\n        \"dtype\": \"number\",\n        \"std\": 429211303366700416,\n        \"min\": 56766,\n        \"max\": 1117434097342593703,\n        \"num_unique_values\": 10113,\n        \"samples\": [\n          1039161828097596429,\n          1035329191653910411,\n          24985943\n        ],\n        \"semantic_type\": \"\",\n        \"description\": \"\"\n      }\n    },\n    {\n      \"column\": \"name\",\n      \"properties\": {\n        \"dtype\": \"string\",\n        \"num_unique_values\": 9796,\n        \"samples\": [\n          \"Chambre au coeur de Lyon\",\n          \"Un nid avec vue en plein centre !\",\n          \"Lyon 7e - Appartement Lumineux de 90 m\\u00b2\"\n        ],\n        \"semantic_type\": \"\",\n        \"description\": \"\"\n      }\n    },\n    {\n      \"column\": \"host_id\",\n      \"properties\": {\n        \"dtype\": \"number\",\n        \"std\": 158980015,\n        \"min\": 43823,\n        \"max\": 567009811,\n        \"num_unique_values\": 7750,\n        \"samples\": [\n          102968864,\n          418030475,\n          4505614\n        ],\n        \"semantic_type\": \"\",\n        \"description\": \"\"\n      }\n    },\n    {\n      \"column\": \"host_name\",\n      \"properties\": {\n        \"dtype\": \"category\",\n        \"num_unique_values\": 2388,\n        \"samples\": [\n          \"Pierrick\",\n          \"Rachid\",\n          \"Bart\"\n        ],\n        \"semantic_type\": \"\",\n        \"description\": \"\"\n      }\n    },\n    {\n      \"column\": \"neighbourhood_group\",\n      \"properties\": {\n        \"dtype\": \"number\",\n        \"std\": null,\n        \"min\": null,\n        \"max\": null,\n        \"num_unique_values\": 0,\n        \"samples\": [],\n        \"semantic_type\": \"\",\n        \"description\": \"\"\n      }\n    },\n    {\n      \"column\": \"neighbourhood\",\n      \"properties\": {\n        \"dtype\": \"category\",\n        \"num_unique_values\": 9,\n        \"samples\": [],\n        \"semantic_type\": \"\",\n        \"description\": \"\"\n      }\n    },\n    {\n      \"column\": \"latitude\",\n      \"properties\": {\n        \"dtype\": \"number\",\n        \"std\": 0.013107062410261997,\n        \"min\": 45.72193,\n        \"max\": 45.80722,\n        \"num_unique_values\": 6330,\n        \"samples\": [],\n        \"semantic_type\": \"\",\n        \"description\": \"\"\n      }\n    },\n    {\n      \"column\": \"longitude\",\n      \"properties\": {\n        \"dtype\": \"number\",\n        \"std\": 0.0199789170303756,\n        \"min\": 4.77384,\n        \"max\": 4.89753,\n        \"num_unique_values\": 7009,\n        \"samples\": [],\n        \"semantic_type\": \"\",\n        \"description\": \"\"\n      }\n    },\n    {\n      \"column\": \"room_type\",\n      \"properties\": {\n        \"dtype\": \"category\",\n        \"num_unique_values\": 4,\n        \"samples\": [],\n        \"semantic_type\": \"\",\n        \"description\": \"\"\n      }\n    },\n    {\n      \"column\": \"price\",\n      \"properties\": {\n        \"dtype\": \"number\",\n        \"std\": 226.0233096302389,\n        \"min\": 12.0,\n        \"max\": 12500.0,\n        \"num_unique_values\": 352,\n        \"samples\": [],\n        \"semantic_type\": \"\",\n        \"description\": \"\"\n      }\n    },\n    {\n      \"column\": \"minimum_nights\",\n      \"properties\": {\n        \"dtype\": \"number\",\n        \"std\": 146,\n        \"min\": 1,\n        \"max\": 1125,\n        \"num_unique_values\": 43,\n        \"samples\": [],\n        \"semantic_type\": \"\",\n        \"description\": \"\"\n      }\n    },\n    {\n      \"column\": \"number_of_reviews\",\n      \"properties\": {\n        \"dtype\": \"number\",\n        \"std\": 78,\n        \"min\": 0,\n        \"max\": 1082,\n        \"num_unique_values\": 419,\n        \"samples\": [],\n        \"semantic_type\": \"\",\n        \"description\": \"\"\n      }\n    },\n    {\n      \"column\": \"last_review\",\n      \"properties\": {\n        \"dtype\": \"object\",\n        \"num_unique_values\": 1579,\n        \"samples\": [],\n        \"semantic_type\": \"\",\n        \"description\": \"\"\n      }\n    },\n    {\n      \"column\": \"reviews_per_month\",\n      \"properties\": {\n        \"dtype\": \"number\",\n        \"std\": 1.7362746361099404,\n        \"min\": 0.01,\n        \"max\": 18.7,\n        \"num_unique_values\": 722,\n        \"samples\": [],\n        \"semantic_type\": \"\",\n        \"description\": \"\"\n      }\n    },\n    {\n      \"column\": \"calculated_host_listings_count\",\n      \"properties\": {\n        \"dtype\": \"number\",\n        \"std\": 23,\n        \"min\": 1,\n        \"max\": 123,\n        \"num_unique_values\": 35,\n        \"samples\": [],\n        \"semantic_type\": \"\",\n        \"description\": \"\"\n      }\n    },\n    {\n      \"column\": \"availability_365\",\n      \"properties\": {\n        \"dtype\": \"number\",\n        \"std\": 127,\n        \"min\": 0,\n        \"max\": 365,\n        \"num_unique_values\": 366,\n        \"samples\": [],\n        \"semantic_type\": \"\",\n        \"description\": \"\"\n      }\n    },\n    {\n      \"column\": \"number_of_reviews_ltm\",\n      \"properties\": {\n        \"dtype\": \"number\",\n        \"std\": 18,\n        \"min\": 0,\n        \"max\": 209,\n        \"num_unique_values\": 132,\n        \"samples\": [],\n        \"semantic_type\": \"\",\n        \"description\": \"\"\n      }\n    },\n    {\n      \"column\": \"license\",\n      \"properties\": {\n        \"dtype\": \"string\",\n        \"num_unique_values\": 5114,\n        \"samples\": [],\n        \"semantic_type\": \"\",\n        \"description\": \"\"\n      }\n    }\n  ]\n}"
            }
          },
          "metadata": {},
          "execution_count": 33
        }
      ]
    },
    {
      "cell_type": "code",
      "source": [
        "l_listings.isnull().sum()"
      ],
      "metadata": {
        "colab": {
          "base_uri": "https://localhost:8080/"
        },
        "id": "gyH9Y-YfllUw",
        "outputId": "54d34496-c580-4e91-f657-93a43cb2ebcd"
      },
      "execution_count": 34,
      "outputs": [
        {
          "output_type": "execute_result",
          "data": {
            "text/plain": [
              "id                                    0\n",
              "name                                  0\n",
              "host_id                               0\n",
              "host_name                             2\n",
              "neighbourhood_group               10113\n",
              "neighbourhood                         0\n",
              "latitude                              0\n",
              "longitude                             0\n",
              "room_type                             0\n",
              "price                              4416\n",
              "minimum_nights                        0\n",
              "number_of_reviews                     0\n",
              "last_review                        2037\n",
              "reviews_per_month                  2037\n",
              "calculated_host_listings_count        0\n",
              "availability_365                      0\n",
              "number_of_reviews_ltm                 0\n",
              "license                            4228\n",
              "dtype: int64"
            ]
          },
          "metadata": {},
          "execution_count": 34
        }
      ]
    },
    {
      "cell_type": "code",
      "source": [
        "list(set(l_listings['room_type']))"
      ],
      "metadata": {
        "colab": {
          "base_uri": "https://localhost:8080/"
        },
        "id": "2eK2XtogqYBe",
        "outputId": "0dd354cf-c6f1-4d8a-bbef-38c4ebde94e5"
      },
      "execution_count": 35,
      "outputs": [
        {
          "output_type": "execute_result",
          "data": {
            "text/plain": [
              "['Entire home/apt', 'Hotel room', 'Shared room', 'Private room']"
            ]
          },
          "metadata": {},
          "execution_count": 35
        }
      ]
    },
    {
      "cell_type": "code",
      "source": [
        "spark = SparkSession.builder.appName('FilRouge').getOrCreate()"
      ],
      "metadata": {
        "id": "OeYuVGu8aO-L"
      },
      "execution_count": 36,
      "outputs": []
    },
    {
      "cell_type": "code",
      "source": [
        "df_l_listings = spark.createDataFrame(l_listings)"
      ],
      "metadata": {
        "id": "CrEtTQDbZ4jG"
      },
      "execution_count": 37,
      "outputs": []
    },
    {
      "cell_type": "code",
      "source": [
        "df_l_listings.printSchema()"
      ],
      "metadata": {
        "colab": {
          "base_uri": "https://localhost:8080/"
        },
        "id": "HmppP9YQQU7A",
        "outputId": "5d51da80-3990-40a3-a794-4f370e11aad2"
      },
      "execution_count": 38,
      "outputs": [
        {
          "output_type": "stream",
          "name": "stdout",
          "text": [
            "root\n",
            " |-- id: long (nullable = true)\n",
            " |-- name: string (nullable = true)\n",
            " |-- host_id: long (nullable = true)\n",
            " |-- host_name: string (nullable = true)\n",
            " |-- neighbourhood_group: double (nullable = true)\n",
            " |-- neighbourhood: string (nullable = true)\n",
            " |-- latitude: double (nullable = true)\n",
            " |-- longitude: double (nullable = true)\n",
            " |-- room_type: string (nullable = true)\n",
            " |-- price: double (nullable = true)\n",
            " |-- minimum_nights: long (nullable = true)\n",
            " |-- number_of_reviews: long (nullable = true)\n",
            " |-- last_review: string (nullable = true)\n",
            " |-- reviews_per_month: double (nullable = true)\n",
            " |-- calculated_host_listings_count: long (nullable = true)\n",
            " |-- availability_365: long (nullable = true)\n",
            " |-- number_of_reviews_ltm: long (nullable = true)\n",
            " |-- license: string (nullable = true)\n",
            "\n"
          ]
        }
      ]
    },
    {
      "cell_type": "code",
      "source": [
        "df_l_listing_filtered = df_l_listings.filter((df_l_listings['price']>50)&(df_l_listings['price']<1000))"
      ],
      "metadata": {
        "id": "5Tr2XrFYY1kP"
      },
      "execution_count": 53,
      "outputs": []
    },
    {
      "cell_type": "code",
      "source": [
        "col_drop = ['name', 'host_name', 'neighbourhood_group', 'neighbourhood',\n",
        "            'calculated_host_listings_count', 'license']\n",
        "df_l_listing_filtered = df_l_listing_filtered.drop(*col_drop)\n"
      ],
      "metadata": {
        "id": "5Qv4vWr8MYrp"
      },
      "execution_count": 40,
      "outputs": []
    },
    {
      "cell_type": "code",
      "source": [
        "df_l_listing_filtered.show()"
      ],
      "metadata": {
        "colab": {
          "base_uri": "https://localhost:8080/"
        },
        "id": "_VRWqukFXnTC",
        "outputId": "3c3963da-9d6d-47af-c13b-b31a040d57da"
      },
      "execution_count": 41,
      "outputs": [
        {
          "output_type": "stream",
          "name": "stdout",
          "text": [
            "+------+-------+-----------------+-----------------+---------------+-----+--------------+-----------------+-----------+-----------------+----------------+---------------------+\n",
            "|    id|host_id|         latitude|        longitude|      room_type|price|minimum_nights|number_of_reviews|last_review|reviews_per_month|availability_365|number_of_reviews_ltm|\n",
            "+------+-------+-----------------+-----------------+---------------+-----+--------------+-----------------+-----------+-----------------+----------------+---------------------+\n",
            "| 56766| 269557|         45.76312|          4.82813|Entire home/apt|125.0|            60|               55| 2023-10-29|             0.34|             210|                    1|\n",
            "| 77104| 411285|         45.76842|          4.82745|Entire home/apt|100.0|             2|               24| 2023-10-07|             0.15|              75|                    2|\n",
            "|134539| 660135|          45.7593|          4.82548|Entire home/apt| 80.0|             2|              132| 2023-12-10|             0.85|              82|                    6|\n",
            "|174304| 832917|         45.76695|          4.83241|Entire home/apt|201.0|             2|              429| 2024-03-10|             3.02|             115|                   42|\n",
            "|233372|1221417|         45.75935|          4.82228|Entire home/apt| 52.0|             2|              316| 2024-03-21|             2.09|             218|                   64|\n",
            "|242183|1271050|         45.74727|          4.86683|Entire home/apt| 77.0|            31|               33| 2024-01-01|             0.27|             306|                   18|\n",
            "|249711|1308521|         45.75207|          4.83978|Entire home/apt|210.0|             2|               25| 2023-10-07|             0.17|             354|                    2|\n",
            "|329950|1683652|          45.7467|          4.87099|Entire home/apt| 75.0|             2|               25| 2023-09-30|             0.18|              20|                    4|\n",
            "|342674|1738855|         45.75383|          4.84758|Entire home/apt|155.0|             1|              326| 2024-03-05|             2.28|             216|                   38|\n",
            "|349150|1769157|         45.76401|          4.82896|Entire home/apt|169.0|             2|              417| 2022-04-16|             2.86|             229|                    0|\n",
            "|365998|1848025|         45.76983|           4.8293|Entire home/apt| 76.0|             3|              200| 2024-03-19|             1.39|             164|                   29|\n",
            "|387453| 718463|        45.769253|         4.829836|Entire home/apt| 90.0|             2|               73| 2024-02-22|              0.5|               0|                    5|\n",
            "|551810|2711663|         45.76489|           4.8314|Entire home/apt|139.0|             4|               39| 2022-06-11|             0.36|              68|                    0|\n",
            "|612551|3038226|         45.76903|          4.83281|Entire home/apt| 70.0|           270|               20| 2023-12-22|             0.15|             284|                    2|\n",
            "|625569|3103951|         45.80187|          4.82131|   Private room|145.0|             1|               14| 2022-09-09|              0.1|             365|                    0|\n",
            "|626944|1803736|         45.76648|          4.84947|Entire home/apt|120.0|             1|              230| 2024-03-08|             1.64|             252|                   18|\n",
            "|635954|3165326|         45.75793|            4.825|Entire home/apt|102.0|           365|               47| 2021-07-24|             0.33|             365|                    0|\n",
            "|684345|2719085|         45.77118|          4.83666|Entire home/apt| 62.0|            20|               36| 2022-05-23|             0.26|             232|                    0|\n",
            "|695607|3560828|         45.74342|          4.88471|Entire home/apt|146.0|             3|               46| 2022-09-21|             0.36|             223|                    0|\n",
            "|720121|3715660|45.77348438514248|4.825420983243915|Entire home/apt| 54.0|             2|               14| 2023-12-11|             0.76|               0|                   12|\n",
            "+------+-------+-----------------+-----------------+---------------+-----+--------------+-----------------+-----------+-----------------+----------------+---------------------+\n",
            "only showing top 20 rows\n",
            "\n"
          ]
        }
      ]
    },
    {
      "cell_type": "code",
      "source": [
        "df_l_listing_filtered=df_l_listing_filtered.withColumn('Hotel room',\n",
        "                                     df_l_listing_filtered.room_type=='Hotel room')\n",
        "df_l_listing_filtered=df_l_listing_filtered.withColumn('Entire',\n",
        "                                     df_l_listing_filtered.room_type=='Entire home/apt')\n",
        "df_l_listing_filtered=df_l_listing_filtered.withColumn('Private room',\n",
        "                                     df_l_listing_filtered.room_type=='Private room')\n",
        "df_l_listing_filtered=df_l_listing_filtered.withColumn('Shared room',\n",
        "                                     df_l_listing_filtered.room_type=='Shared room')"
      ],
      "metadata": {
        "id": "9jBr3TrFPfpk"
      },
      "execution_count": 42,
      "outputs": []
    },
    {
      "cell_type": "code",
      "source": [
        "import pyspark.sql.functions as F\n",
        "from functools import reduce\n",
        "\n",
        "cols = ['Hotel room', 'Entire', 'Private room', 'Shared room']\n",
        "df_l_listing_filtered= reduce(lambda df_l_listing_filtered,\n",
        "                              c: df_l_listing_filtered.withColumn(c, F.when(df_l_listing_filtered[c] == 'false',\n",
        "                                                                            0).otherwise(1)), cols, df_l_listing_filtered)"
      ],
      "metadata": {
        "id": "KbwVWt6tWBBf"
      },
      "execution_count": 43,
      "outputs": []
    },
    {
      "cell_type": "code",
      "source": [
        "df_l_listing_filtered = df_l_listing_filtered.drop('room_type')"
      ],
      "metadata": {
        "id": "zJIJvNPckUFF"
      },
      "execution_count": 44,
      "outputs": []
    },
    {
      "cell_type": "code",
      "source": [
        "df_l_listing_filtered.show()"
      ],
      "metadata": {
        "colab": {
          "base_uri": "https://localhost:8080/"
        },
        "id": "aviCNSrYWR5U",
        "outputId": "364a6d0d-9ef2-4ac4-fbcb-07da8979d8b8"
      },
      "execution_count": 45,
      "outputs": [
        {
          "output_type": "stream",
          "name": "stdout",
          "text": [
            "+------+-------+-----------------+-----------------+-----+--------------+-----------------+-----------+-----------------+----------------+---------------------+----------+------+------------+-----------+\n",
            "|    id|host_id|         latitude|        longitude|price|minimum_nights|number_of_reviews|last_review|reviews_per_month|availability_365|number_of_reviews_ltm|Hotel room|Entire|Private room|Shared room|\n",
            "+------+-------+-----------------+-----------------+-----+--------------+-----------------+-----------+-----------------+----------------+---------------------+----------+------+------------+-----------+\n",
            "| 56766| 269557|         45.76312|          4.82813|125.0|            60|               55| 2023-10-29|             0.34|             210|                    1|         0|     1|           0|          0|\n",
            "| 77104| 411285|         45.76842|          4.82745|100.0|             2|               24| 2023-10-07|             0.15|              75|                    2|         0|     1|           0|          0|\n",
            "|134539| 660135|          45.7593|          4.82548| 80.0|             2|              132| 2023-12-10|             0.85|              82|                    6|         0|     1|           0|          0|\n",
            "|174304| 832917|         45.76695|          4.83241|201.0|             2|              429| 2024-03-10|             3.02|             115|                   42|         0|     1|           0|          0|\n",
            "|233372|1221417|         45.75935|          4.82228| 52.0|             2|              316| 2024-03-21|             2.09|             218|                   64|         0|     1|           0|          0|\n",
            "|242183|1271050|         45.74727|          4.86683| 77.0|            31|               33| 2024-01-01|             0.27|             306|                   18|         0|     1|           0|          0|\n",
            "|249711|1308521|         45.75207|          4.83978|210.0|             2|               25| 2023-10-07|             0.17|             354|                    2|         0|     1|           0|          0|\n",
            "|329950|1683652|          45.7467|          4.87099| 75.0|             2|               25| 2023-09-30|             0.18|              20|                    4|         0|     1|           0|          0|\n",
            "|342674|1738855|         45.75383|          4.84758|155.0|             1|              326| 2024-03-05|             2.28|             216|                   38|         0|     1|           0|          0|\n",
            "|349150|1769157|         45.76401|          4.82896|169.0|             2|              417| 2022-04-16|             2.86|             229|                    0|         0|     1|           0|          0|\n",
            "|365998|1848025|         45.76983|           4.8293| 76.0|             3|              200| 2024-03-19|             1.39|             164|                   29|         0|     1|           0|          0|\n",
            "|387453| 718463|        45.769253|         4.829836| 90.0|             2|               73| 2024-02-22|              0.5|               0|                    5|         0|     1|           0|          0|\n",
            "|551810|2711663|         45.76489|           4.8314|139.0|             4|               39| 2022-06-11|             0.36|              68|                    0|         0|     1|           0|          0|\n",
            "|612551|3038226|         45.76903|          4.83281| 70.0|           270|               20| 2023-12-22|             0.15|             284|                    2|         0|     1|           0|          0|\n",
            "|625569|3103951|         45.80187|          4.82131|145.0|             1|               14| 2022-09-09|              0.1|             365|                    0|         0|     0|           1|          0|\n",
            "|626944|1803736|         45.76648|          4.84947|120.0|             1|              230| 2024-03-08|             1.64|             252|                   18|         0|     1|           0|          0|\n",
            "|635954|3165326|         45.75793|            4.825|102.0|           365|               47| 2021-07-24|             0.33|             365|                    0|         0|     1|           0|          0|\n",
            "|684345|2719085|         45.77118|          4.83666| 62.0|            20|               36| 2022-05-23|             0.26|             232|                    0|         0|     1|           0|          0|\n",
            "|695607|3560828|         45.74342|          4.88471|146.0|             3|               46| 2022-09-21|             0.36|             223|                    0|         0|     1|           0|          0|\n",
            "|720121|3715660|45.77348438514248|4.825420983243915| 54.0|             2|               14| 2023-12-11|             0.76|               0|                   12|         0|     1|           0|          0|\n",
            "+------+-------+-----------------+-----------------+-----+--------------+-----------------+-----------+-----------------+----------------+---------------------+----------+------+------------+-----------+\n",
            "only showing top 20 rows\n",
            "\n"
          ]
        }
      ]
    },
    {
      "cell_type": "code",
      "source": [
        "df=df_l_listing_filtered\n",
        "\n",
        "from pyspark.sql.functions import col,isnan,when,count\n",
        "df = df.select([count(when(col(c).contains('None') | \\\n",
        "                            col(c).contains('NULL') | \\\n",
        "                            (col(c) == '' ) | \\\n",
        "                            col(c).isNull() | \\\n",
        "                            isnan(c), c\n",
        "                           )).alias(c)\n",
        "                    for c in df.columns])\n",
        "df.show()"
      ],
      "metadata": {
        "colab": {
          "base_uri": "https://localhost:8080/"
        },
        "id": "UXmNzDNgnOwB",
        "outputId": "72e3ab35-6a13-4ed5-8743-569a2f6fc80c"
      },
      "execution_count": 56,
      "outputs": [
        {
          "output_type": "stream",
          "name": "stdout",
          "text": [
            "+---+-------+--------+---------+-----+--------------+-----------------+-----------+-----------------+----------------+---------------------+----------+------+------------+-----------+\n",
            "| id|host_id|latitude|longitude|price|minimum_nights|number_of_reviews|last_review|reviews_per_month|availability_365|number_of_reviews_ltm|Hotel room|Entire|Private room|Shared room|\n",
            "+---+-------+--------+---------+-----+--------------+-----------------+-----------+-----------------+----------------+---------------------+----------+------+------------+-----------+\n",
            "|  0|      0|       0|        0|    0|             0|                0|        600|              600|               0|                    0|         0|     0|           0|          0|\n",
            "+---+-------+--------+---------+-----+--------------+-----------------+-----------+-----------------+----------------+---------------------+----------+------+------------+-----------+\n",
            "\n"
          ]
        }
      ]
    },
    {
      "cell_type": "markdown",
      "source": [],
      "metadata": {
        "id": "GuVZDnrJYSfm"
      }
    },
    {
      "cell_type": "code",
      "source": [
        "from pyspark.sql.functions import col,isnan, when, count, isnull\n",
        "from pyspark.sql.functions import *"
      ],
      "metadata": {
        "id": "8EQhtov2lCR_"
      },
      "execution_count": 60,
      "outputs": []
    },
    {
      "cell_type": "code",
      "source": [
        "#df2=df_l_listing_filtered\n",
        "#df2 = df2.na.drop(subset=['price'])\n",
        "df3 = df_l_listing_filtered.na.fill(value = 0, subset=[\"reviews_per_month\"])\n",
        "df_l_listings_cleaned = df3\n",
        "df_l_listings_cleaned=df_l_listings_cleaned.drop('last_review')"
      ],
      "metadata": {
        "id": "hr6OhocPvc7N"
      },
      "execution_count": 72,
      "outputs": []
    },
    {
      "cell_type": "code",
      "source": [
        "#from pyspark.sql.functions import col,isnan,when,count\n",
        "df3 = df3.select([count(when(col(c).contains('None') | \\\n",
        "                            col(c).contains('NULL') | \\\n",
        "                            (col(c) == '' ) | \\\n",
        "                            col(c).isNull() | \\\n",
        "                            isnan(c), c\n",
        "                           )).alias(c)\n",
        "                    for c in df3.columns])\n",
        "df3.show()"
      ],
      "metadata": {
        "colab": {
          "base_uri": "https://localhost:8080/"
        },
        "id": "jYjeO70VY5Q1",
        "outputId": "57c2f016-8586-4143-a9af-b62f408959fa"
      },
      "execution_count": 58,
      "outputs": [
        {
          "output_type": "stream",
          "name": "stdout",
          "text": [
            "+---+-------+--------+---------+-----+--------------+-----------------+-----------+-----------------+----------------+---------------------+----------+------+------------+-----------+\n",
            "| id|host_id|latitude|longitude|price|minimum_nights|number_of_reviews|last_review|reviews_per_month|availability_365|number_of_reviews_ltm|Hotel room|Entire|Private room|Shared room|\n",
            "+---+-------+--------+---------+-----+--------------+-----------------+-----------+-----------------+----------------+---------------------+----------+------+------------+-----------+\n",
            "|  0|      0|       0|        0|    0|             0|                0|        600|                0|               0|                    0|         0|     0|           0|          0|\n",
            "+---+-------+--------+---------+-----+--------------+-----------------+-----------+-----------------+----------------+---------------------+----------+------+------------+-----------+\n",
            "\n"
          ]
        }
      ]
    },
    {
      "cell_type": "code",
      "source": [
        "df_l_listings_cleaned.printSchema()"
      ],
      "metadata": {
        "colab": {
          "base_uri": "https://localhost:8080/"
        },
        "id": "TarqTTuBiRFa",
        "outputId": "256f3d42-2fe1-4d0b-fa6b-9f9c2c8659ac"
      },
      "execution_count": 73,
      "outputs": [
        {
          "output_type": "stream",
          "name": "stdout",
          "text": [
            "root\n",
            " |-- id: long (nullable = true)\n",
            " |-- host_id: long (nullable = true)\n",
            " |-- latitude: double (nullable = true)\n",
            " |-- longitude: double (nullable = true)\n",
            " |-- price: double (nullable = true)\n",
            " |-- minimum_nights: long (nullable = true)\n",
            " |-- number_of_reviews: long (nullable = true)\n",
            " |-- reviews_per_month: double (nullable = false)\n",
            " |-- availability_365: long (nullable = true)\n",
            " |-- number_of_reviews_ltm: long (nullable = true)\n",
            " |-- Hotel room: integer (nullable = false)\n",
            " |-- Entire: integer (nullable = false)\n",
            " |-- Private room: integer (nullable = false)\n",
            " |-- Shared room: integer (nullable = false)\n",
            "\n"
          ]
        }
      ]
    },
    {
      "cell_type": "code",
      "source": [
        "df_l_listing_filtered.show()"
      ],
      "metadata": {
        "colab": {
          "base_uri": "https://localhost:8080/"
        },
        "id": "q_z3jTTRSb35",
        "outputId": "af81dbc1-a0d6-42fb-b062-f059a41252ad"
      },
      "execution_count": 49,
      "outputs": [
        {
          "output_type": "stream",
          "name": "stdout",
          "text": [
            "+------+-------+-----------------+-----------------+-----+--------------+-----------------+-----------+-----------------+----------------+---------------------+----------+------+------------+-----------+\n",
            "|    id|host_id|         latitude|        longitude|price|minimum_nights|number_of_reviews|last_review|reviews_per_month|availability_365|number_of_reviews_ltm|Hotel room|Entire|Private room|Shared room|\n",
            "+------+-------+-----------------+-----------------+-----+--------------+-----------------+-----------+-----------------+----------------+---------------------+----------+------+------------+-----------+\n",
            "| 56766| 269557|         45.76312|          4.82813|125.0|            60|               55| 2023-10-29|             0.34|             210|                    1|         0|     1|           0|          0|\n",
            "| 77104| 411285|         45.76842|          4.82745|100.0|             2|               24| 2023-10-07|             0.15|              75|                    2|         0|     1|           0|          0|\n",
            "|134539| 660135|          45.7593|          4.82548| 80.0|             2|              132| 2023-12-10|             0.85|              82|                    6|         0|     1|           0|          0|\n",
            "|174304| 832917|         45.76695|          4.83241|201.0|             2|              429| 2024-03-10|             3.02|             115|                   42|         0|     1|           0|          0|\n",
            "|233372|1221417|         45.75935|          4.82228| 52.0|             2|              316| 2024-03-21|             2.09|             218|                   64|         0|     1|           0|          0|\n",
            "|242183|1271050|         45.74727|          4.86683| 77.0|            31|               33| 2024-01-01|             0.27|             306|                   18|         0|     1|           0|          0|\n",
            "|249711|1308521|         45.75207|          4.83978|210.0|             2|               25| 2023-10-07|             0.17|             354|                    2|         0|     1|           0|          0|\n",
            "|329950|1683652|          45.7467|          4.87099| 75.0|             2|               25| 2023-09-30|             0.18|              20|                    4|         0|     1|           0|          0|\n",
            "|342674|1738855|         45.75383|          4.84758|155.0|             1|              326| 2024-03-05|             2.28|             216|                   38|         0|     1|           0|          0|\n",
            "|349150|1769157|         45.76401|          4.82896|169.0|             2|              417| 2022-04-16|             2.86|             229|                    0|         0|     1|           0|          0|\n",
            "|365998|1848025|         45.76983|           4.8293| 76.0|             3|              200| 2024-03-19|             1.39|             164|                   29|         0|     1|           0|          0|\n",
            "|387453| 718463|        45.769253|         4.829836| 90.0|             2|               73| 2024-02-22|              0.5|               0|                    5|         0|     1|           0|          0|\n",
            "|551810|2711663|         45.76489|           4.8314|139.0|             4|               39| 2022-06-11|             0.36|              68|                    0|         0|     1|           0|          0|\n",
            "|612551|3038226|         45.76903|          4.83281| 70.0|           270|               20| 2023-12-22|             0.15|             284|                    2|         0|     1|           0|          0|\n",
            "|625569|3103951|         45.80187|          4.82131|145.0|             1|               14| 2022-09-09|              0.1|             365|                    0|         0|     0|           1|          0|\n",
            "|626944|1803736|         45.76648|          4.84947|120.0|             1|              230| 2024-03-08|             1.64|             252|                   18|         0|     1|           0|          0|\n",
            "|635954|3165326|         45.75793|            4.825|102.0|           365|               47| 2021-07-24|             0.33|             365|                    0|         0|     1|           0|          0|\n",
            "|684345|2719085|         45.77118|          4.83666| 62.0|            20|               36| 2022-05-23|             0.26|             232|                    0|         0|     1|           0|          0|\n",
            "|695607|3560828|         45.74342|          4.88471|146.0|             3|               46| 2022-09-21|             0.36|             223|                    0|         0|     1|           0|          0|\n",
            "|720121|3715660|45.77348438514248|4.825420983243915| 54.0|             2|               14| 2023-12-11|             0.76|               0|                   12|         0|     1|           0|          0|\n",
            "+------+-------+-----------------+-----------------+-----+--------------+-----------------+-----------+-----------------+----------------+---------------------+----------+------+------------+-----------+\n",
            "only showing top 20 rows\n",
            "\n"
          ]
        }
      ]
    },
    {
      "cell_type": "code",
      "source": [
        "#Créer un vecteur avec toutes les caractéristiques (sauf les identifiants) avec VectorAssembler\n",
        "from pyspark.ml.feature import VectorAssembler"
      ],
      "metadata": {
        "id": "uRNPxo1yjwpM"
      },
      "execution_count": 74,
      "outputs": []
    },
    {
      "cell_type": "code",
      "source": [
        "#Récupérer la liste des colonnes\n",
        "col_list = list(df_l_listings_cleaned.columns)\n",
        "col_list.remove('price')\n",
        "col_list"
      ],
      "metadata": {
        "colab": {
          "base_uri": "https://localhost:8080/"
        },
        "id": "HWiE184IpFPn",
        "outputId": "c0fcc260-3ce1-4ded-9c81-b8a075e3d5d6"
      },
      "execution_count": 75,
      "outputs": [
        {
          "output_type": "execute_result",
          "data": {
            "text/plain": [
              "['id',\n",
              " 'host_id',\n",
              " 'latitude',\n",
              " 'longitude',\n",
              " 'minimum_nights',\n",
              " 'number_of_reviews',\n",
              " 'reviews_per_month',\n",
              " 'availability_365',\n",
              " 'number_of_reviews_ltm',\n",
              " 'Hotel room',\n",
              " 'Entire',\n",
              " 'Private room',\n",
              " 'Shared room']"
            ]
          },
          "metadata": {},
          "execution_count": 75
        }
      ]
    },
    {
      "cell_type": "code",
      "source": [
        "vectorAssembler = VectorAssembler(inputCols= col_list,\n",
        "                                  outputCol = 'features')\n",
        "v_df_l_listings = vectorAssembler.transform(df_l_listings_cleaned)\n",
        "v_df_l_listings = v_df_l_listings.select(['features', 'price'])"
      ],
      "metadata": {
        "id": "Dijj-11HnKz1"
      },
      "execution_count": 76,
      "outputs": []
    },
    {
      "cell_type": "code",
      "source": [
        "v_df_l_listings.show()"
      ],
      "metadata": {
        "colab": {
          "base_uri": "https://localhost:8080/"
        },
        "id": "ANLURnWapxd0",
        "outputId": "f1093bbe-d942-42fc-e680-b5f825b718bf"
      },
      "execution_count": 77,
      "outputs": [
        {
          "output_type": "stream",
          "name": "stdout",
          "text": [
            "+--------------------+-----+\n",
            "|            features|price|\n",
            "+--------------------+-----+\n",
            "|[56766.0,269557.0...|125.0|\n",
            "|[77104.0,411285.0...|100.0|\n",
            "|[134539.0,660135....| 80.0|\n",
            "|[174304.0,832917....|201.0|\n",
            "|[233372.0,1221417...| 52.0|\n",
            "|[242183.0,1271050...| 77.0|\n",
            "|[249711.0,1308521...|210.0|\n",
            "|[329950.0,1683652...| 75.0|\n",
            "|[342674.0,1738855...|155.0|\n",
            "|[349150.0,1769157...|169.0|\n",
            "|[365998.0,1848025...| 76.0|\n",
            "|[387453.0,718463....| 90.0|\n",
            "|[551810.0,2711663...|139.0|\n",
            "|[612551.0,3038226...| 70.0|\n",
            "|[625569.0,3103951...|145.0|\n",
            "|[626944.0,1803736...|120.0|\n",
            "|[635954.0,3165326...|102.0|\n",
            "|[684345.0,2719085...| 62.0|\n",
            "|[695607.0,3560828...|146.0|\n",
            "|[720121.0,3715660...| 54.0|\n",
            "+--------------------+-----+\n",
            "only showing top 20 rows\n",
            "\n"
          ]
        }
      ]
    },
    {
      "cell_type": "code",
      "source": [
        "#Partage données d'entrainement et de test\n",
        "train_df_l_listings, test_df_l_listings = v_df_l_listings.randomSplit([0.7, 0.3])"
      ],
      "metadata": {
        "id": "OgKHhDM_p8sA"
      },
      "execution_count": 78,
      "outputs": []
    },
    {
      "cell_type": "code",
      "source": [
        "#Modèle de régression linéaire\n",
        "from pyspark.ml.regression import LinearRegression\n",
        "lr = LinearRegression(featuresCol = 'features', labelCol='price', maxIter=10, regParam=0.3, elasticNetParam=0.8)\n",
        "lr_model = lr.fit(train_df_l_listings)\n",
        "print(\"Coefficients:\" + str(lr_model.coefficients))\n",
        "print(\"Intercept:\" + str(lr_model.intercept))"
      ],
      "metadata": {
        "colab": {
          "base_uri": "https://localhost:8080/"
        },
        "id": "aRacfgX9tfMo",
        "outputId": "a2d959fd-79d1-4068-8e0b-50d8409baf93"
      },
      "execution_count": 79,
      "outputs": [
        {
          "output_type": "stream",
          "name": "stdout",
          "text": [
            "Coefficients:[5.515418921881718e-18,-5.916889530837038e-08,234.15476936561947,-211.26430222302167,-0.0664265191740292,0.0,-6.415556734488406,0.07800271709355727,-0.2441376336454392,30.89007232182576,18.183821739273597,-20.583822508610112,10.400460038180087]\n",
            "Intercept:-9581.209178642031\n"
          ]
        }
      ]
    },
    {
      "cell_type": "code",
      "source": [
        "trainingSummary = lr_model.summary\n",
        "print(\"RMSE: %f\" % trainingSummary.rootMeanSquaredError)\n",
        "print(\"r2: %f\" % trainingSummary.r2)"
      ],
      "metadata": {
        "colab": {
          "base_uri": "https://localhost:8080/"
        },
        "id": "trkjdXQ2ubaN",
        "outputId": "f65650b4-5686-4139-8e2e-3400ff122263"
      },
      "execution_count": 81,
      "outputs": [
        {
          "output_type": "stream",
          "name": "stdout",
          "text": [
            "RMSE: 83.274081\n",
            "r2: 0.085474\n"
          ]
        }
      ]
    },
    {
      "cell_type": "code",
      "source": [
        "train_df_l_listings.describe().show()"
      ],
      "metadata": {
        "colab": {
          "base_uri": "https://localhost:8080/"
        },
        "id": "nfH2t59qywv_",
        "outputId": "fd933347-6f98-46de-aeae-6fc8d2ae7c6e"
      },
      "execution_count": 82,
      "outputs": [
        {
          "output_type": "stream",
          "name": "stdout",
          "text": [
            "+-------+------------------+\n",
            "|summary|             price|\n",
            "+-------+------------------+\n",
            "|  count|              3329|\n",
            "|   mean|116.99309101832382|\n",
            "| stddev| 87.09174477262518|\n",
            "|    min|              51.0|\n",
            "|    max|             980.0|\n",
            "+-------+------------------+\n",
            "\n"
          ]
        }
      ]
    },
    {
      "cell_type": "code",
      "source": [
        "lr_predictions = lr_model.transform(test_df_l_listings)\n",
        "lr_predictions.select(\"prediction\",\"price\",\"features\").show()"
      ],
      "metadata": {
        "colab": {
          "base_uri": "https://localhost:8080/"
        },
        "id": "RoKe3u0Cy_XN",
        "outputId": "bd82957f-8ac9-429e-c42e-1aa06a6a964b"
      },
      "execution_count": 83,
      "outputs": [
        {
          "output_type": "stream",
          "name": "stdout",
          "text": [
            "+------------------+-----+--------------------+\n",
            "|        prediction|price|            features|\n",
            "+------------------+-----+--------------------+\n",
            "|148.78965412709294| 80.0|(13,[0,1,2,3,4,7,...|\n",
            "|123.90484665455733| 75.0|(13,[0,1,2,3,4,7,...|\n",
            "|141.07646973677583|100.0|(13,[0,1,2,3,4,7,...|\n",
            "|125.07692980599859|300.0|(13,[0,1,2,3,4,7,...|\n",
            "|111.32349605662239|170.0|(13,[0,1,2,3,4,7,...|\n",
            "|130.69042964554683|350.0|(13,[0,1,2,3,4,7,...|\n",
            "|125.36318020925137|200.0|(13,[0,1,2,3,4,7,...|\n",
            "| 128.7160478833921| 60.0|(13,[0,1,2,3,4,7,...|\n",
            "|129.03078034943428|100.0|(13,[0,1,2,3,4,7,...|\n",
            "|111.91747893765569|110.0|(13,[0,1,2,3,4,7,...|\n",
            "|145.03483900553329| 70.0|(13,[0,1,2,3,4,7,...|\n",
            "| 126.4306165774542|230.0|(13,[0,1,2,3,4,7,...|\n",
            "|100.09534949603221| 75.0|(13,[0,1,2,3,4,7,...|\n",
            "| 91.63084027463447|120.0|(13,[0,1,2,3,4,7,...|\n",
            "| 79.84574007978881|130.0|(13,[0,1,2,3,4,7,...|\n",
            "|138.24302334661843|100.0|[77104.0,411285.0...|\n",
            "|153.39106249254655|210.0|[249711.0,1308521...|\n",
            "|133.98282034486328|102.0|[635954.0,3165326...|\n",
            "|117.25988965947727|140.0|[747327.0,3922797...|\n",
            "| 90.81610916577483| 70.0|[759321.0,3912388...|\n",
            "+------------------+-----+--------------------+\n",
            "only showing top 20 rows\n",
            "\n"
          ]
        }
      ]
    },
    {
      "cell_type": "code",
      "source": [
        "from pyspark.ml.evaluation import RegressionEvaluator\n",
        "lr_evaluator = RegressionEvaluator(predictionCol=\"prediction\", \\\n",
        "                 labelCol=\"price\",metricName=\"r2\")\n",
        "print(\"R2 on test data = %g\" % lr_evaluator.evaluate(lr_predictions))"
      ],
      "metadata": {
        "colab": {
          "base_uri": "https://localhost:8080/"
        },
        "id": "e1FeFXoazOyM",
        "outputId": "f678aafa-b58a-419d-8c70-8fa691b3ba6c"
      },
      "execution_count": 84,
      "outputs": [
        {
          "output_type": "stream",
          "name": "stdout",
          "text": [
            "R2 on test data = 0.0716597\n"
          ]
        }
      ]
    },
    {
      "cell_type": "code",
      "source": [
        "test_result = lr_model.evaluate(test_df_l_listings)\n",
        "print(\"Root Mean Squared Error (RMSE) on test data = %g\" % test_result.rootMeanSquaredError)"
      ],
      "metadata": {
        "colab": {
          "base_uri": "https://localhost:8080/"
        },
        "id": "pEgeoRHOzg7_",
        "outputId": "40c54106-f88a-4e75-9316-287263eec58b"
      },
      "execution_count": 85,
      "outputs": [
        {
          "output_type": "stream",
          "name": "stdout",
          "text": [
            "Root Mean Squared Error (RMSE) on test data = 77.5783\n"
          ]
        }
      ]
    },
    {
      "cell_type": "code",
      "source": [
        "# CSV options\n",
        "infer_schema = \"true\"\n",
        "first_row_is_header = \"true\"\n",
        "delimiter = \",\"\n",
        "\n",
        "# The applied options are for CSV files. For other file types, these will be ignored.\n",
        "lls = spark.read.format(file_type) \\\n",
        "  .option(\"inferSchema\", infer_schema) \\\n",
        "  .option(\"header\", first_row_is_header) \\\n",
        "  .option(\"sep\", delimiter) \\\n",
        "  .option(\"quote\", \"\\\"\") \\\n",
        "  .option(\"escape\", \"\\\"\") \\\n",
        "  .option(\"multiline\", True) \\\n",
        "  .load(l_listings)\n",
        "\n",
        "display(lls)"
      ],
      "metadata": {
        "colab": {
          "base_uri": "https://localhost:8080/",
          "height": 207
        },
        "id": "dSrbnBDrh4ea",
        "outputId": "82d3b1fb-4f3e-4dc0-f53d-212d86ba175f"
      },
      "execution_count": 50,
      "outputs": [
        {
          "output_type": "error",
          "ename": "NameError",
          "evalue": "name 'file_type' is not defined",
          "traceback": [
            "\u001b[0;31m---------------------------------------------------------------------------\u001b[0m",
            "\u001b[0;31mNameError\u001b[0m                                 Traceback (most recent call last)",
            "\u001b[0;32m<ipython-input-50-2741453bd2a2>\u001b[0m in \u001b[0;36m<cell line: 7>\u001b[0;34m()\u001b[0m\n\u001b[1;32m      5\u001b[0m \u001b[0;34m\u001b[0m\u001b[0m\n\u001b[1;32m      6\u001b[0m \u001b[0;31m# The applied options are for CSV files. For other file types, these will be ignored.\u001b[0m\u001b[0;34m\u001b[0m\u001b[0;34m\u001b[0m\u001b[0m\n\u001b[0;32m----> 7\u001b[0;31m \u001b[0mlls\u001b[0m \u001b[0;34m=\u001b[0m \u001b[0mspark\u001b[0m\u001b[0;34m.\u001b[0m\u001b[0mread\u001b[0m\u001b[0;34m.\u001b[0m\u001b[0mformat\u001b[0m\u001b[0;34m(\u001b[0m\u001b[0mfile_type\u001b[0m\u001b[0;34m)\u001b[0m\u001b[0;31m \u001b[0m\u001b[0;31m\\\u001b[0m\u001b[0;34m\u001b[0m\u001b[0;34m\u001b[0m\u001b[0m\n\u001b[0m\u001b[1;32m      8\u001b[0m   \u001b[0;34m.\u001b[0m\u001b[0moption\u001b[0m\u001b[0;34m(\u001b[0m\u001b[0;34m\"inferSchema\"\u001b[0m\u001b[0;34m,\u001b[0m \u001b[0minfer_schema\u001b[0m\u001b[0;34m)\u001b[0m\u001b[0;31m \u001b[0m\u001b[0;31m\\\u001b[0m\u001b[0;34m\u001b[0m\u001b[0;34m\u001b[0m\u001b[0m\n\u001b[1;32m      9\u001b[0m   \u001b[0;34m.\u001b[0m\u001b[0moption\u001b[0m\u001b[0;34m(\u001b[0m\u001b[0;34m\"header\"\u001b[0m\u001b[0;34m,\u001b[0m \u001b[0mfirst_row_is_header\u001b[0m\u001b[0;34m)\u001b[0m\u001b[0;31m \u001b[0m\u001b[0;31m\\\u001b[0m\u001b[0;34m\u001b[0m\u001b[0;34m\u001b[0m\u001b[0m\n",
            "\u001b[0;31mNameError\u001b[0m: name 'file_type' is not defined"
          ]
        }
      ]
    },
    {
      "cell_type": "markdown",
      "source": [],
      "metadata": {
        "id": "o1eyLwL8WRc1"
      }
    },
    {
      "cell_type": "code",
      "source": [
        "#Traitement des caractères spéciaux et passage en décimal (avec 2 chiffres après la virgule)\n",
        "\n",
        "from pyspark.sql.functions import *\n",
        "\n",
        "#remove '$' from each string in 'price' column\n",
        "df_new = df.withColumn('price', regexp_replace('price', '$', ''))\n",
        "#remove all special characters\n",
        "df_new = df.withColumn('price', regexp_replace('price', '[^a-zA-Z0-9]', ''))\n",
        "#convert string to float\n",
        "df_new = df.withColumn('price', df_new['price'].cast('float'))\n",
        "#with only to digits\n",
        "df_new = df.withColumn('price', round(df_new['price'], 2))\n"
      ],
      "metadata": {
        "id": "LrlRC5wzUjeG"
      },
      "execution_count": null,
      "outputs": []
    }
  ]
}